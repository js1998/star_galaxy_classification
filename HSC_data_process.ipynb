{
 "cells": [
  {
   "cell_type": "markdown",
   "metadata": {},
   "source": [
    "# Import"
   ]
  },
  {
   "cell_type": "code",
   "execution_count": 1,
   "metadata": {},
   "outputs": [],
   "source": [
    "from astropy.table import Table\n",
    "import glob, os\n",
    "import tensorflow as tf\n",
    "import seaborn as sns\n",
    "import numpy as np\n",
    "import matplotlib.pyplot as plt\n",
    "import collections\n",
    "import pandas as pd\n",
    "from math import pi\n",
    "from random import randint\n",
    "import glob\n",
    "import math\n",
    "import sys\n",
    "from astropy.visualization import hist\n",
    "from astroML.datasets import fetch_imaging_sample, fetch_sdss_S82standards\n",
    "from astroML.crossmatch import crossmatch_angular\n",
    "import math\n",
    "\n",
    "def cross_match(a, b):\n",
    "    \n",
    "    imX = np.empty((len(a), 2), dtype=np.float64)\n",
    "    imX[:, 0] = a['ra']\n",
    "    imX[:, 1] = a['dec']\n",
    "    # get standard stars\n",
    "\n",
    "    stX = np.empty((len(b), 2), dtype=np.float64)\n",
    "    stX[:, 0] = b['ra']\n",
    "    stX[:, 1] = b['dec']\n",
    "\n",
    "    # crossmatch catalogs\n",
    "    max_radius = 1. / 3600  # 1 arcsec\n",
    "    print('cross...')\n",
    "    dist, ind = crossmatch_angular(imX, stX, max_radius)\n",
    "    print('end')\n",
    "    match = ~np.isinf(dist)\n",
    "    ind_list = ind[match] #milliquas index\n",
    "    dist_match = dist[match]\n",
    "    dist_match *= 3600\n",
    "    t1 = pd.DataFrame(b.iloc[ind_list]).reset_index()\n",
    "    t2 = pd.DataFrame(a[match == True]).reset_index()\n",
    "    print('concat...')\n",
    "    result = pd.concat([t1, t2], axis=1, sort=False)\n",
    "\n",
    "    return result"
   ]
  },
  {
   "cell_type": "markdown",
   "metadata": {},
   "source": [
    "password:D4JgG8iF4mpmFImdlt3A0AXMwyGw6bd4q5ZqBxPn \n",
    "\n",
    "\n",
    "user: yufeng@local"
   ]
  },
  {
   "cell_type": "markdown",
   "metadata": {},
   "source": [
    "#  plot for the bands"
   ]
  },
  {
   "cell_type": "code",
   "execution_count": 5,
   "metadata": {},
   "outputs": [
    {
     "data": {
      "text/plain": [
       "(0, 2)"
      ]
     },
     "execution_count": 5,
     "metadata": {},
     "output_type": "execute_result"
    },
    {
     "data": {
      "image/png": "[encoded data removed]",
      "text/plain": [
       "<Figure size 432x288 with 1 Axes>"
      ]
     },
     "metadata": {
      "needs_background": "light"
     },
     "output_type": "display_data"
    }
   ],
   "source": [
    "# g\n",
    "hsc = Table.read(\"/home/yufeng/projects/rrg-kyi/yufeng/image_classification/data/newHSC/124899.fits\").to_pandas()\n",
    "hsc = hsc[['object_id', 'g_ra', 'g_dec', 'g_cmodel_mag', 'g_deblend_psfmag', 'g_extendedness_value']]\n",
    "hsc = hsc.rename(columns={'g_ra': 'ra', 'g_dec': 'dec'})\n",
    "plt_cat = hsc[['g_cmodel_mag', 'g_deblend_psfmag', 'g_extendedness_value']].dropna()\n",
    "galaxy = plt_cat[plt_cat['g_extendedness_value'] == 1]\n",
    "ps = plt_cat[plt_cat['g_extendedness_value'] == 0]\n",
    "plt.clf()\n",
    "sns.distplot(abs(ps['g_cmodel_mag']-ps['g_deblend_psfmag']))\n",
    "plt.xlim(0, 2)"
   ]
  },
  {
   "cell_type": "code",
   "execution_count": 6,
   "metadata": {},
   "outputs": [
    {
     "data": {
      "text/plain": [
       "(0, 2)"
      ]
     },
     "execution_count": 6,
     "metadata": {},
     "output_type": "execute_result"
    },
    {
     "data": {
      "image/png": "[encoded data removed]",
      "text/plain": [
       "<Figure size 432x288 with 1 Axes>"
      ]
     },
     "metadata": {
      "needs_background": "light"
     },
     "output_type": "display_data"
    }
   ],
   "source": [
    "# i\n",
    "hsc = Table.read(\"/home/yufeng/projects/rrg-kyi/yufeng/image_classification/data/newHSC/124900.fits\").to_pandas()\n",
    "hsc = hsc[['object_id', 'i_ra', 'i_dec', 'i_cmodel_mag', 'i_deblend_psfmag', 'i_extendedness_value']]\n",
    "hsc = hsc.rename(columns={'i_ra': 'ra', 'i_dec': 'dec'})\n",
    "plt_cat = hsc[['i_cmodel_mag', 'i_deblend_psfmag', 'i_extendedness_value']].dropna()\n",
    "galaxy = plt_cat[plt_cat['i_extendedness_value'] == 1]\n",
    "ps = plt_cat[plt_cat['i_extendedness_value'] == 0]\n",
    "plt.clf()\n",
    "sns.distplot(abs(ps['i_cmodel_mag']-ps['i_deblend_psfmag']))\n",
    "plt.xlim(0, 2)"
   ]
  },
  {
   "cell_type": "code",
   "execution_count": 8,
   "metadata": {},
   "outputs": [
    {
     "data": {
      "text/plain": [
       "0           0.000000\n",
       "1           0.000000\n",
       "2           0.000000\n",
       "3           0.000000\n",
       "4           0.000000\n",
       "              ...   \n",
       "32818309    1.453293\n",
       "32818318    0.578756\n",
       "32818342    1.267082\n",
       "32818350    0.318230\n",
       "32818370    0.003368\n",
       "Length: 2326752, dtype: float32"
      ]
     },
     "execution_count": 8,
     "metadata": {},
     "output_type": "execute_result"
    }
   ],
   "source": [
    "abs(ps['i_cmodel_mag']-ps['i_deblend_psfmag'])"
   ]
  },
  {
   "cell_type": "markdown",
   "metadata": {},
   "source": [
    "# 1. read an clean the raw data"
   ]
  },
  {
   "cell_type": "code",
   "execution_count": 60,
   "metadata": {
    "scrolled": true
   },
   "outputs": [],
   "source": [
    "hsc_meas = Table.read(\"/home/yufeng/projects/rrg-kyi/yufeng/image_classification/data/newHSC/hscmeas.fits\").to_pandas()\n",
    "hsc_meas = hsc_meas[['object_id', 'r_ra', 'r_dec', 'r_cmodel_mag', 'r_deblend_psfmag', 'r_extendedness_value']]\n",
    "hsc_meas = hsc_meas.rename(columns={'r_ra': 'ra', 'r_dec': 'dec'})\n",
    "indexNames = hsc_meas[ (hsc_meas['dec'] < -28.18982478) | (hsc_meas['dec'] > 68.89301978) ].index\n",
    "hsc_meas.drop(indexNames, inplace=True)\n",
    "hsc_meas['index_hsc'] = hsc_meas.index.values.tolist()\n",
    "# hsc meas total: 32818438 objects, all in cfis footprint"
   ]
  },
  {
   "cell_type": "code",
   "execution_count": 36,
   "metadata": {},
   "outputs": [
    {
     "data": {
      "image/png": "[encoded data removed]",
      "text/plain": [
       "<Figure size 432x288 with 1 Axes>"
      ]
     },
     "metadata": {
      "needs_background": "light"
     },
     "output_type": "display_data"
    }
   ],
   "source": [
    "tmp = hsc_meas[['ra', 'dec']].dropna()\n",
    "plt.scatter(tmp['ra'], tmp['dec'], s=0.03)\n",
    "plt.show()"
   ]
  },
  {
   "cell_type": "code",
   "execution_count": 43,
   "metadata": {},
   "outputs": [],
   "source": [
    "plt_cat = hsc_meas[['r_cmodel_mag', 'r_deblend_psfmag', 'r_extendedness_value']].dropna()\n",
    "galaxy = plt_cat[plt_cat['r_extendedness_value'] == 1]\n",
    "ps = plt_cat[plt_cat['r_extendedness_value'] == 0]"
   ]
  },
  {
   "cell_type": "code",
   "execution_count": 55,
   "metadata": {
    "scrolled": true
   },
   "outputs": [
    {
     "data": {
      "text/plain": [
       "(0, 2)"
      ]
     },
     "execution_count": 55,
     "metadata": {},
     "output_type": "execute_result"
    },
    {
     "data": {
      "image/png": "[encoded data removed]",
      "text/plain": [
       "<Figure size 432x288 with 1 Axes>"
      ]
     },
     "metadata": {
      "needs_background": "light"
     },
     "output_type": "display_data"
    }
   ],
   "source": [
    "plt.clf()\n",
    "sns.distplot(abs(ps['r_cmodel_mag']-ps['r_deblend_psfmag']))\n",
    "plt.xlim(0, 2)"
   ]
  },
  {
   "cell_type": "code",
   "execution_count": 27,
   "metadata": {},
   "outputs": [
    {
     "data": {
      "text/plain": [
       "<matplotlib.collections.PathCollection at 0x2b75c6329668>"
      ]
     },
     "execution_count": 27,
     "metadata": {},
     "output_type": "execute_result"
    },
    {
     "data": {
      "image/png": "[encoded data removed]",
      "text/plain": [
       "<Figure size 432x288 with 1 Axes>"
      ]
     },
     "metadata": {
      "needs_background": "light"
     },
     "output_type": "display_data"
    }
   ],
   "source": [
    "plt_cat = hsc_meas[['r_cmodel_mag', 'r_deblend_psfmag', 'r_extendedness_value']].dropna()\n",
    "y = abs(plt_cat['r_cmodel_mag']-plt_cat['r_deblend_psfmag'])\n",
    "x = plt_cat['r_extendedness_value']\n",
    "plt.scatter(x, y)"
   ]
  },
  {
   "cell_type": "code",
   "execution_count": 17,
   "metadata": {},
   "outputs": [
    {
     "data": {
      "image/png": "[encoded data removed]",
      "text/plain": [
       "<Figure size 432x288 with 1 Axes>"
      ]
     },
     "metadata": {
      "needs_background": "light"
     },
     "output_type": "display_data"
    }
   ],
   "source": [
    "plt_cat = hsc_meas[['r_cmodel_mag', 'r_deblend_psfmag', 'r_extendedness_value']].dropna()\n",
    "y = abs(plt_cat['r_cmodel_mag']-plt_cat['r_deblend_psfmag'])\n",
    "x = plt_cat['r_cmodel_mag']\n",
    "plt.scatter(x, y, s=0.03)\n",
    "plt.ylim(0,0.2)\n",
    "plt.show()"
   ]
  },
  {
   "cell_type": "code",
   "execution_count": 34,
   "metadata": {},
   "outputs": [
    {
     "data": {
      "text/plain": [
       "(array([1.1429717e+07, 1.2609460e+06, 2.4753100e+05, 9.1325000e+04,\n",
       "        1.0016000e+04, 8.8200000e+02, 1.3200000e+02, 2.0000000e+01,\n",
       "        8.0000000e+00, 1.0000000e+00]),\n",
       " array([ 0.       ,  1.372379 ,  2.744758 ,  4.117137 ,  5.489516 ,\n",
       "         6.8618946,  8.234274 ,  9.606652 , 10.979032 , 12.35141  ,\n",
       "        13.723789 ], dtype=float32),\n",
       " <a list of 10 Patch objects>)"
      ]
     },
     "execution_count": 34,
     "metadata": {},
     "output_type": "execute_result"
    },
    {
     "data": {
      "image/png": "[encoded data removed]",
      "text/plain": [
       "<Figure size 432x288 with 1 Axes>"
      ]
     },
     "metadata": {
      "needs_background": "light"
     },
     "output_type": "display_data"
    }
   ],
   "source": [
    "plt.hist(y[np.isfinite(y)].values)"
   ]
  },
  {
   "cell_type": "code",
   "execution_count": 9,
   "metadata": {
    "scrolled": true
   },
   "outputs": [
    {
     "data": {
      "text/html": [
       "<div>\n",
       "<style scoped>\n",
       "    .dataframe tbody tr th:only-of-type {\n",
       "        vertical-align: middle;\n",
       "    }\n",
       "\n",
       "    .dataframe tbody tr th {\n",
       "        vertical-align: top;\n",
       "    }\n",
       "\n",
       "    .dataframe thead th {\n",
       "        text-align: right;\n",
       "    }\n",
       "</style>\n",
       "<table border=\"1\" class=\"dataframe\">\n",
       "  <thead>\n",
       "    <tr style=\"text-align: right;\">\n",
       "      <th></th>\n",
       "      <th>r_cmodel_mag</th>\n",
       "      <th>r_deblend_psfmag</th>\n",
       "      <th>r_extendedness_value</th>\n",
       "    </tr>\n",
       "  </thead>\n",
       "  <tbody>\n",
       "    <tr>\n",
       "      <th>249</th>\n",
       "      <td>24.002357</td>\n",
       "      <td>25.007004</td>\n",
       "      <td>1.0</td>\n",
       "    </tr>\n",
       "    <tr>\n",
       "      <th>256</th>\n",
       "      <td>24.239845</td>\n",
       "      <td>26.239975</td>\n",
       "      <td>1.0</td>\n",
       "    </tr>\n",
       "    <tr>\n",
       "      <th>268</th>\n",
       "      <td>24.710247</td>\n",
       "      <td>25.990158</td>\n",
       "      <td>1.0</td>\n",
       "    </tr>\n",
       "    <tr>\n",
       "      <th>271</th>\n",
       "      <td>23.704966</td>\n",
       "      <td>25.282097</td>\n",
       "      <td>1.0</td>\n",
       "    </tr>\n",
       "    <tr>\n",
       "      <th>273</th>\n",
       "      <td>24.183685</td>\n",
       "      <td>26.047192</td>\n",
       "      <td>1.0</td>\n",
       "    </tr>\n",
       "    <tr>\n",
       "      <th>274</th>\n",
       "      <td>25.514526</td>\n",
       "      <td>25.591684</td>\n",
       "      <td>0.0</td>\n",
       "    </tr>\n",
       "    <tr>\n",
       "      <th>275</th>\n",
       "      <td>24.921280</td>\n",
       "      <td>25.830879</td>\n",
       "      <td>1.0</td>\n",
       "    </tr>\n",
       "    <tr>\n",
       "      <th>276</th>\n",
       "      <td>24.806801</td>\n",
       "      <td>26.650330</td>\n",
       "      <td>1.0</td>\n",
       "    </tr>\n",
       "    <tr>\n",
       "      <th>279</th>\n",
       "      <td>24.889938</td>\n",
       "      <td>25.229860</td>\n",
       "      <td>1.0</td>\n",
       "    </tr>\n",
       "    <tr>\n",
       "      <th>1332</th>\n",
       "      <td>24.321728</td>\n",
       "      <td>27.111759</td>\n",
       "      <td>1.0</td>\n",
       "    </tr>\n",
       "    <tr>\n",
       "      <th>1336</th>\n",
       "      <td>25.694290</td>\n",
       "      <td>26.087980</td>\n",
       "      <td>1.0</td>\n",
       "    </tr>\n",
       "    <tr>\n",
       "      <th>1342</th>\n",
       "      <td>25.635963</td>\n",
       "      <td>26.261656</td>\n",
       "      <td>1.0</td>\n",
       "    </tr>\n",
       "    <tr>\n",
       "      <th>1343</th>\n",
       "      <td>24.654943</td>\n",
       "      <td>25.529814</td>\n",
       "      <td>1.0</td>\n",
       "    </tr>\n",
       "    <tr>\n",
       "      <th>1345</th>\n",
       "      <td>24.441240</td>\n",
       "      <td>25.809021</td>\n",
       "      <td>1.0</td>\n",
       "    </tr>\n",
       "    <tr>\n",
       "      <th>1347</th>\n",
       "      <td>25.955830</td>\n",
       "      <td>26.240005</td>\n",
       "      <td>0.0</td>\n",
       "    </tr>\n",
       "    <tr>\n",
       "      <th>1348</th>\n",
       "      <td>24.846207</td>\n",
       "      <td>26.340034</td>\n",
       "      <td>1.0</td>\n",
       "    </tr>\n",
       "    <tr>\n",
       "      <th>1354</th>\n",
       "      <td>25.718105</td>\n",
       "      <td>27.752012</td>\n",
       "      <td>1.0</td>\n",
       "    </tr>\n",
       "    <tr>\n",
       "      <th>1355</th>\n",
       "      <td>26.579584</td>\n",
       "      <td>26.781387</td>\n",
       "      <td>0.0</td>\n",
       "    </tr>\n",
       "    <tr>\n",
       "      <th>1356</th>\n",
       "      <td>26.075745</td>\n",
       "      <td>26.065107</td>\n",
       "      <td>1.0</td>\n",
       "    </tr>\n",
       "    <tr>\n",
       "      <th>1357</th>\n",
       "      <td>25.728424</td>\n",
       "      <td>26.544687</td>\n",
       "      <td>1.0</td>\n",
       "    </tr>\n",
       "    <tr>\n",
       "      <th>1361</th>\n",
       "      <td>24.477972</td>\n",
       "      <td>26.585617</td>\n",
       "      <td>1.0</td>\n",
       "    </tr>\n",
       "    <tr>\n",
       "      <th>1366</th>\n",
       "      <td>25.016048</td>\n",
       "      <td>26.102158</td>\n",
       "      <td>1.0</td>\n",
       "    </tr>\n",
       "    <tr>\n",
       "      <th>1367</th>\n",
       "      <td>25.253490</td>\n",
       "      <td>26.312366</td>\n",
       "      <td>1.0</td>\n",
       "    </tr>\n",
       "    <tr>\n",
       "      <th>1370</th>\n",
       "      <td>22.546738</td>\n",
       "      <td>26.155798</td>\n",
       "      <td>1.0</td>\n",
       "    </tr>\n",
       "    <tr>\n",
       "      <th>1371</th>\n",
       "      <td>23.597719</td>\n",
       "      <td>27.312351</td>\n",
       "      <td>1.0</td>\n",
       "    </tr>\n",
       "    <tr>\n",
       "      <th>1372</th>\n",
       "      <td>24.288424</td>\n",
       "      <td>26.545113</td>\n",
       "      <td>1.0</td>\n",
       "    </tr>\n",
       "    <tr>\n",
       "      <th>1373</th>\n",
       "      <td>24.222878</td>\n",
       "      <td>26.532627</td>\n",
       "      <td>1.0</td>\n",
       "    </tr>\n",
       "    <tr>\n",
       "      <th>1381</th>\n",
       "      <td>26.327492</td>\n",
       "      <td>26.538326</td>\n",
       "      <td>1.0</td>\n",
       "    </tr>\n",
       "    <tr>\n",
       "      <th>1382</th>\n",
       "      <td>25.562601</td>\n",
       "      <td>26.056597</td>\n",
       "      <td>1.0</td>\n",
       "    </tr>\n",
       "    <tr>\n",
       "      <th>1384</th>\n",
       "      <td>25.104790</td>\n",
       "      <td>26.197840</td>\n",
       "      <td>1.0</td>\n",
       "    </tr>\n",
       "    <tr>\n",
       "      <th>...</th>\n",
       "      <td>...</td>\n",
       "      <td>...</td>\n",
       "      <td>...</td>\n",
       "    </tr>\n",
       "    <tr>\n",
       "      <th>32818165</th>\n",
       "      <td>23.219292</td>\n",
       "      <td>25.813984</td>\n",
       "      <td>1.0</td>\n",
       "    </tr>\n",
       "    <tr>\n",
       "      <th>32818166</th>\n",
       "      <td>21.227064</td>\n",
       "      <td>25.526398</td>\n",
       "      <td>1.0</td>\n",
       "    </tr>\n",
       "    <tr>\n",
       "      <th>32818186</th>\n",
       "      <td>25.567871</td>\n",
       "      <td>26.693981</td>\n",
       "      <td>1.0</td>\n",
       "    </tr>\n",
       "    <tr>\n",
       "      <th>32818188</th>\n",
       "      <td>25.973850</td>\n",
       "      <td>27.738733</td>\n",
       "      <td>1.0</td>\n",
       "    </tr>\n",
       "    <tr>\n",
       "      <th>32818189</th>\n",
       "      <td>25.653458</td>\n",
       "      <td>25.568785</td>\n",
       "      <td>1.0</td>\n",
       "    </tr>\n",
       "    <tr>\n",
       "      <th>32818192</th>\n",
       "      <td>25.091225</td>\n",
       "      <td>25.784279</td>\n",
       "      <td>1.0</td>\n",
       "    </tr>\n",
       "    <tr>\n",
       "      <th>32818194</th>\n",
       "      <td>25.189886</td>\n",
       "      <td>25.665192</td>\n",
       "      <td>1.0</td>\n",
       "    </tr>\n",
       "    <tr>\n",
       "      <th>32818198</th>\n",
       "      <td>25.871656</td>\n",
       "      <td>25.740831</td>\n",
       "      <td>0.0</td>\n",
       "    </tr>\n",
       "    <tr>\n",
       "      <th>32818215</th>\n",
       "      <td>28.751791</td>\n",
       "      <td>27.150446</td>\n",
       "      <td>1.0</td>\n",
       "    </tr>\n",
       "    <tr>\n",
       "      <th>32818218</th>\n",
       "      <td>26.892879</td>\n",
       "      <td>26.788683</td>\n",
       "      <td>1.0</td>\n",
       "    </tr>\n",
       "    <tr>\n",
       "      <th>32818220</th>\n",
       "      <td>26.691662</td>\n",
       "      <td>27.554085</td>\n",
       "      <td>1.0</td>\n",
       "    </tr>\n",
       "    <tr>\n",
       "      <th>32818267</th>\n",
       "      <td>26.476492</td>\n",
       "      <td>27.603279</td>\n",
       "      <td>1.0</td>\n",
       "    </tr>\n",
       "    <tr>\n",
       "      <th>32818278</th>\n",
       "      <td>26.703804</td>\n",
       "      <td>26.651621</td>\n",
       "      <td>0.0</td>\n",
       "    </tr>\n",
       "    <tr>\n",
       "      <th>32818282</th>\n",
       "      <td>25.993652</td>\n",
       "      <td>30.303589</td>\n",
       "      <td>0.0</td>\n",
       "    </tr>\n",
       "    <tr>\n",
       "      <th>32818288</th>\n",
       "      <td>25.955551</td>\n",
       "      <td>26.035156</td>\n",
       "      <td>1.0</td>\n",
       "    </tr>\n",
       "    <tr>\n",
       "      <th>32818289</th>\n",
       "      <td>26.448065</td>\n",
       "      <td>26.438751</td>\n",
       "      <td>1.0</td>\n",
       "    </tr>\n",
       "    <tr>\n",
       "      <th>32818290</th>\n",
       "      <td>25.599693</td>\n",
       "      <td>26.539749</td>\n",
       "      <td>1.0</td>\n",
       "    </tr>\n",
       "    <tr>\n",
       "      <th>32818291</th>\n",
       "      <td>26.214447</td>\n",
       "      <td>26.547476</td>\n",
       "      <td>1.0</td>\n",
       "    </tr>\n",
       "    <tr>\n",
       "      <th>32818294</th>\n",
       "      <td>26.641472</td>\n",
       "      <td>25.967999</td>\n",
       "      <td>1.0</td>\n",
       "    </tr>\n",
       "    <tr>\n",
       "      <th>32818303</th>\n",
       "      <td>26.584240</td>\n",
       "      <td>25.995155</td>\n",
       "      <td>1.0</td>\n",
       "    </tr>\n",
       "    <tr>\n",
       "      <th>32818314</th>\n",
       "      <td>26.455208</td>\n",
       "      <td>25.756096</td>\n",
       "      <td>0.0</td>\n",
       "    </tr>\n",
       "    <tr>\n",
       "      <th>32818315</th>\n",
       "      <td>21.722073</td>\n",
       "      <td>26.055603</td>\n",
       "      <td>1.0</td>\n",
       "    </tr>\n",
       "    <tr>\n",
       "      <th>32818322</th>\n",
       "      <td>25.781246</td>\n",
       "      <td>26.971636</td>\n",
       "      <td>1.0</td>\n",
       "    </tr>\n",
       "    <tr>\n",
       "      <th>32818338</th>\n",
       "      <td>25.755314</td>\n",
       "      <td>26.726660</td>\n",
       "      <td>1.0</td>\n",
       "    </tr>\n",
       "    <tr>\n",
       "      <th>32818339</th>\n",
       "      <td>25.432545</td>\n",
       "      <td>26.540487</td>\n",
       "      <td>1.0</td>\n",
       "    </tr>\n",
       "    <tr>\n",
       "      <th>32818351</th>\n",
       "      <td>25.735838</td>\n",
       "      <td>26.182680</td>\n",
       "      <td>0.0</td>\n",
       "    </tr>\n",
       "    <tr>\n",
       "      <th>32818370</th>\n",
       "      <td>26.218906</td>\n",
       "      <td>25.864422</td>\n",
       "      <td>0.0</td>\n",
       "    </tr>\n",
       "    <tr>\n",
       "      <th>32818372</th>\n",
       "      <td>26.327318</td>\n",
       "      <td>25.407114</td>\n",
       "      <td>1.0</td>\n",
       "    </tr>\n",
       "    <tr>\n",
       "      <th>32818374</th>\n",
       "      <td>25.837616</td>\n",
       "      <td>26.028631</td>\n",
       "      <td>1.0</td>\n",
       "    </tr>\n",
       "    <tr>\n",
       "      <th>32818376</th>\n",
       "      <td>26.019276</td>\n",
       "      <td>28.065729</td>\n",
       "      <td>1.0</td>\n",
       "    </tr>\n",
       "  </tbody>\n",
       "</table>\n",
       "<p>13040579 rows × 3 columns</p>\n",
       "</div>"
      ],
      "text/plain": [
       "          r_cmodel_mag  r_deblend_psfmag  r_extendedness_value\n",
       "249          24.002357         25.007004                   1.0\n",
       "256          24.239845         26.239975                   1.0\n",
       "268          24.710247         25.990158                   1.0\n",
       "271          23.704966         25.282097                   1.0\n",
       "273          24.183685         26.047192                   1.0\n",
       "...                ...               ...                   ...\n",
       "32818351     25.735838         26.182680                   0.0\n",
       "32818370     26.218906         25.864422                   0.0\n",
       "32818372     26.327318         25.407114                   1.0\n",
       "32818374     25.837616         26.028631                   1.0\n",
       "32818376     26.019276         28.065729                   1.0\n",
       "\n",
       "[13040579 rows x 3 columns]"
      ]
     },
     "execution_count": 9,
     "metadata": {},
     "output_type": "execute_result"
    }
   ],
   "source": [
    "plt_cat"
   ]
  },
  {
   "cell_type": "code",
   "execution_count": 10,
   "metadata": {
    "scrolled": true
   },
   "outputs": [
    {
     "data": {
      "text/html": [
       "<div>\n",
       "<style scoped>\n",
       "    .dataframe tbody tr th:only-of-type {\n",
       "        vertical-align: middle;\n",
       "    }\n",
       "\n",
       "    .dataframe tbody tr th {\n",
       "        vertical-align: top;\n",
       "    }\n",
       "\n",
       "    .dataframe thead th {\n",
       "        text-align: right;\n",
       "    }\n",
       "</style>\n",
       "<table border=\"1\" class=\"dataframe\">\n",
       "  <thead>\n",
       "    <tr style=\"text-align: right;\">\n",
       "      <th></th>\n",
       "      <th>object_id</th>\n",
       "      <th>ra</th>\n",
       "      <th>dec</th>\n",
       "      <th>r_cmodel_mag</th>\n",
       "      <th>r_deblend_psfmag</th>\n",
       "      <th>r_extendedness_value</th>\n",
       "      <th>index_hsc</th>\n",
       "    </tr>\n",
       "  </thead>\n",
       "  <tbody>\n",
       "    <tr>\n",
       "      <th>0</th>\n",
       "      <td>36424655564701697</td>\n",
       "      <td>35.196141</td>\n",
       "      <td>-5.859030</td>\n",
       "      <td>NaN</td>\n",
       "      <td>NaN</td>\n",
       "      <td>NaN</td>\n",
       "      <td>0</td>\n",
       "    </tr>\n",
       "    <tr>\n",
       "      <th>1</th>\n",
       "      <td>36424655564701699</td>\n",
       "      <td>35.193129</td>\n",
       "      <td>-5.854682</td>\n",
       "      <td>NaN</td>\n",
       "      <td>NaN</td>\n",
       "      <td>NaN</td>\n",
       "      <td>1</td>\n",
       "    </tr>\n",
       "    <tr>\n",
       "      <th>2</th>\n",
       "      <td>36424655564701700</td>\n",
       "      <td>35.178514</td>\n",
       "      <td>-5.857883</td>\n",
       "      <td>21.470358</td>\n",
       "      <td>NaN</td>\n",
       "      <td>NaN</td>\n",
       "      <td>2</td>\n",
       "    </tr>\n",
       "    <tr>\n",
       "      <th>3</th>\n",
       "      <td>36424655564701701</td>\n",
       "      <td>35.182197</td>\n",
       "      <td>-5.858021</td>\n",
       "      <td>24.937550</td>\n",
       "      <td>NaN</td>\n",
       "      <td>NaN</td>\n",
       "      <td>3</td>\n",
       "    </tr>\n",
       "    <tr>\n",
       "      <th>4</th>\n",
       "      <td>36424655564701702</td>\n",
       "      <td>35.197719</td>\n",
       "      <td>-5.857964</td>\n",
       "      <td>25.265812</td>\n",
       "      <td>NaN</td>\n",
       "      <td>1.0</td>\n",
       "      <td>4</td>\n",
       "    </tr>\n",
       "  </tbody>\n",
       "</table>\n",
       "</div>"
      ],
      "text/plain": [
       "           object_id         ra       dec  r_cmodel_mag  r_deblend_psfmag  \\\n",
       "0  36424655564701697  35.196141 -5.859030           NaN               NaN   \n",
       "1  36424655564701699  35.193129 -5.854682           NaN               NaN   \n",
       "2  36424655564701700  35.178514 -5.857883     21.470358               NaN   \n",
       "3  36424655564701701  35.182197 -5.858021     24.937550               NaN   \n",
       "4  36424655564701702  35.197719 -5.857964     25.265812               NaN   \n",
       "\n",
       "   r_extendedness_value  index_hsc  \n",
       "0                   NaN          0  \n",
       "1                   NaN          1  \n",
       "2                   NaN          2  \n",
       "3                   NaN          3  \n",
       "4                   1.0          4  "
      ]
     },
     "execution_count": 10,
     "metadata": {},
     "output_type": "execute_result"
    }
   ],
   "source": [
    "hsc_meas.head()"
   ]
  },
  {
   "cell_type": "markdown",
   "metadata": {},
   "source": [
    "find cfis footprint"
   ]
  },
  {
   "cell_type": "code",
   "execution_count": 20,
   "metadata": {
    "scrolled": true
   },
   "outputs": [
    {
     "data": {
      "text/plain": [
       "RA        0.000011\n",
       "Dec     -28.187047\n",
       "u         0.050000\n",
       "du        0.001000\n",
       "clas     -9.000000\n",
       "nu        1.000000\n",
       "u0     -450.426727\n",
       "Av        0.006099\n",
       "dtype: float64"
      ]
     },
     "execution_count": 20,
     "metadata": {},
     "output_type": "execute_result"
    }
   ],
   "source": [
    "luau = Table.read(\"/home/yufeng/projects/rrg-kyi/yufeng/image_classification/data/stra/Luau_DR2.fits\").to_pandas()\n",
    "luau.min()"
   ]
  },
  {
   "cell_type": "code",
   "execution_count": 21,
   "metadata": {},
   "outputs": [
    {
     "data": {
      "text/plain": [
       "RA      360.000000\n",
       "Dec      68.890242\n",
       "u        30.000000\n",
       "du        5.000000\n",
       "clas      1.000000\n",
       "nu       99.000000\n",
       "u0       29.979115\n",
       "Av      306.374176\n",
       "dtype: float64"
      ]
     },
     "execution_count": 21,
     "metadata": {},
     "output_type": "execute_result"
    }
   ],
   "source": [
    "luau.max() # dec ( -28.18982478, 68.89301978) add 10 arcsec, 0.00277778"
   ]
  },
  {
   "cell_type": "markdown",
   "metadata": {},
   "source": [
    "for catalogue in  Milliquas, SDSS, GAIA:\n",
    "\n",
    "       add_column P_QSO(catalogue), P_STAR(catalogue), P_GALAXY(catalogue)"
   ]
  },
  {
   "cell_type": "markdown",
   "metadata": {},
   "source": [
    "# 2.     x-match with milliquas, sdss, gaia"
   ]
  },
  {
   "cell_type": "markdown",
   "metadata": {},
   "source": [
    "### A. Milliquas"
   ]
  },
  {
   "cell_type": "code",
   "execution_count": 23,
   "metadata": {},
   "outputs": [
    {
     "name": "stdout",
     "output_type": "stream",
     "text": [
      "cross...\n",
      "end\n",
      "concat...\n"
     ]
    }
   ],
   "source": [
    "filename = \"/home/yufeng/projects/rrg-kyi/yufeng/image_classification/data/milliquas/allmillq_1.22.csv\"\n",
    "milliquas = pd.read_csv(filename).dropna()\n",
    "milliquas = milliquas[['RA', 'DEC', 'QSO_PROB']]\n",
    "milliquas = milliquas.rename(columns={'RA': 'ra', 'DEC': 'dec', 'QSO_PROB': 'prob_qso_milliquas'})\n",
    "milliquas['prob_qso_milliquas'] = milliquas['prob_qso_milliquas']/100\n",
    "indexNames = milliquas[ (milliquas['dec'] < -28.18982478) | (milliquas['dec'] > 68.89301978) ].index\n",
    "milliquas.drop(indexNames, inplace=True) \n",
    "# milliquas total after dropping: 1756668 objects\n",
    "# index in original milliquas\n",
    "milliquas['index_milliquas'] = milliquas.index.values.tolist()\n",
    "# x-match\n",
    "hsc_milliquas = cross_match(hsc_meas, milliquas)\n",
    "# matched:19790        unmatched: 1736878\n",
    "hsc_milliquas = hsc_milliquas.iloc[:,\n",
    "                                [3, 4, 6, 7, 8, 9, 10, 11, 12]]\n",
    "# drop matched ones in hsc, then append matched ones of milliquas to hsc\n",
    "hsc_meas = hsc_meas.drop(hsc_milliquas['index_hsc'])\n",
    "hsc_milliquas.index = hsc_milliquas['index_hsc']\n",
    "hsc_meas = hsc_meas.append(hsc_milliquas)\n",
    "# append unmatched ones of gaia to cfis\n",
    "unmatch_milliquas = milliquas.drop(hsc_milliquas['index_milliquas'])\n",
    "hsc_meas = hsc_meas.append(unmatch_milliquas)\n",
    "# reset index and save\n",
    "hsc_meas.reset_index(drop=True, inplace = True)\n",
    "hsc_meas['index_hsc'] = hsc_meas.index.values.tolist()\n",
    "hsc_meas['prob_star_milliquas'] = 0\n",
    "hsc_meas['prob_galaxy_milliquas'] = 0\n",
    "hsc_meas.to_hdf('/home/yufeng/projects/rrg-kyi/yufeng/image_classification/data/newHSC/hsc_milliquas.h5', \n",
    "                                 key='hsc_milliquas', mode='w')"
   ]
  },
  {
   "cell_type": "code",
   "execution_count": 26,
   "metadata": {
    "scrolled": true
   },
   "outputs": [
    {
     "data": {
      "text/html": [
       "<div>\n",
       "<style scoped>\n",
       "    .dataframe tbody tr th:only-of-type {\n",
       "        vertical-align: middle;\n",
       "    }\n",
       "\n",
       "    .dataframe tbody tr th {\n",
       "        vertical-align: top;\n",
       "    }\n",
       "\n",
       "    .dataframe thead th {\n",
       "        text-align: right;\n",
       "    }\n",
       "</style>\n",
       "<table border=\"1\" class=\"dataframe\">\n",
       "  <thead>\n",
       "    <tr style=\"text-align: right;\">\n",
       "      <th></th>\n",
       "      <th>dec</th>\n",
       "      <th>index_hsc</th>\n",
       "      <th>index_milliquas</th>\n",
       "      <th>object_id</th>\n",
       "      <th>prob_qso_milliquas</th>\n",
       "      <th>r_cmodel_mag</th>\n",
       "      <th>r_deblend_psfmag</th>\n",
       "      <th>r_extendedness_value</th>\n",
       "      <th>ra</th>\n",
       "      <th>prob_star_milliquas</th>\n",
       "      <th>prob_galaxy_milliquas</th>\n",
       "    </tr>\n",
       "  </thead>\n",
       "  <tbody>\n",
       "    <tr>\n",
       "      <th>0</th>\n",
       "      <td>-5.859030</td>\n",
       "      <td>0</td>\n",
       "      <td>NaN</td>\n",
       "      <td>3.642466e+16</td>\n",
       "      <td>NaN</td>\n",
       "      <td>NaN</td>\n",
       "      <td>NaN</td>\n",
       "      <td>NaN</td>\n",
       "      <td>35.196141</td>\n",
       "      <td>0</td>\n",
       "      <td>0</td>\n",
       "    </tr>\n",
       "    <tr>\n",
       "      <th>1</th>\n",
       "      <td>-5.854682</td>\n",
       "      <td>1</td>\n",
       "      <td>NaN</td>\n",
       "      <td>3.642466e+16</td>\n",
       "      <td>NaN</td>\n",
       "      <td>NaN</td>\n",
       "      <td>NaN</td>\n",
       "      <td>NaN</td>\n",
       "      <td>35.193129</td>\n",
       "      <td>0</td>\n",
       "      <td>0</td>\n",
       "    </tr>\n",
       "    <tr>\n",
       "      <th>2</th>\n",
       "      <td>-5.857883</td>\n",
       "      <td>2</td>\n",
       "      <td>NaN</td>\n",
       "      <td>3.642466e+16</td>\n",
       "      <td>NaN</td>\n",
       "      <td>21.470358</td>\n",
       "      <td>NaN</td>\n",
       "      <td>NaN</td>\n",
       "      <td>35.178514</td>\n",
       "      <td>0</td>\n",
       "      <td>0</td>\n",
       "    </tr>\n",
       "    <tr>\n",
       "      <th>3</th>\n",
       "      <td>-5.858021</td>\n",
       "      <td>3</td>\n",
       "      <td>NaN</td>\n",
       "      <td>3.642466e+16</td>\n",
       "      <td>NaN</td>\n",
       "      <td>24.937550</td>\n",
       "      <td>NaN</td>\n",
       "      <td>NaN</td>\n",
       "      <td>35.182197</td>\n",
       "      <td>0</td>\n",
       "      <td>0</td>\n",
       "    </tr>\n",
       "    <tr>\n",
       "      <th>4</th>\n",
       "      <td>-5.857964</td>\n",
       "      <td>4</td>\n",
       "      <td>NaN</td>\n",
       "      <td>3.642466e+16</td>\n",
       "      <td>NaN</td>\n",
       "      <td>25.265812</td>\n",
       "      <td>NaN</td>\n",
       "      <td>1.0</td>\n",
       "      <td>35.197719</td>\n",
       "      <td>0</td>\n",
       "      <td>0</td>\n",
       "    </tr>\n",
       "  </tbody>\n",
       "</table>\n",
       "</div>"
      ],
      "text/plain": [
       "        dec  index_hsc  index_milliquas     object_id  prob_qso_milliquas  \\\n",
       "0 -5.859030          0              NaN  3.642466e+16                 NaN   \n",
       "1 -5.854682          1              NaN  3.642466e+16                 NaN   \n",
       "2 -5.857883          2              NaN  3.642466e+16                 NaN   \n",
       "3 -5.858021          3              NaN  3.642466e+16                 NaN   \n",
       "4 -5.857964          4              NaN  3.642466e+16                 NaN   \n",
       "\n",
       "   r_cmodel_mag  r_deblend_psfmag  r_extendedness_value         ra  \\\n",
       "0           NaN               NaN                   NaN  35.196141   \n",
       "1           NaN               NaN                   NaN  35.193129   \n",
       "2     21.470358               NaN                   NaN  35.178514   \n",
       "3     24.937550               NaN                   NaN  35.182197   \n",
       "4     25.265812               NaN                   1.0  35.197719   \n",
       "\n",
       "   prob_star_milliquas  prob_galaxy_milliquas  \n",
       "0                    0                      0  \n",
       "1                    0                      0  \n",
       "2                    0                      0  \n",
       "3                    0                      0  \n",
       "4                    0                      0  "
      ]
     },
     "execution_count": 26,
     "metadata": {},
     "output_type": "execute_result"
    }
   ],
   "source": [
    "hsc_meas.head()"
   ]
  },
  {
   "cell_type": "markdown",
   "metadata": {},
   "source": [
    "### B. SDSS"
   ]
  },
  {
   "cell_type": "code",
   "execution_count": 2,
   "metadata": {},
   "outputs": [],
   "source": [
    "filename = '/home/yufeng/projects/rrg-kyi/yufeng/image_classification/data/sdss/sdss_yufengzhu.csv'\n",
    "sdss = pd.read_csv(filename).dropna()\n",
    "sdss['prob_qso_sdss'] = np.where(sdss['class']=='QSO', 1, 0)\n",
    "sdss['prob_galaxy_sdss'] = np.where(sdss['class']=='GALAXY', 1, 0)\n",
    "sdss['prob_star_sdss'] = np.where(sdss['class']=='STAR', 1, 0)\n",
    "sdss = sdss.drop(columns=['class'])\n",
    "indexNames = sdss[ (sdss['dec'] < -28.18982478) | (sdss['dec'] > 68.89301978) ].index\n",
    "sdss.drop(indexNames , inplace=True)\n",
    "sdss['index_sdss'] = sdss.index.values.tolist()\n",
    "# total: 4265990 within hsc footprint\n",
    "hsc_milliquas = pd.read_hdf('/home/yufeng/projects/rrg-kyi/yufeng/image_classification/data/newHSC/hsc_milliquas.h5'\n",
    "                            , 'hsc_milliquas')\n",
    "matched_sdss = cross_match(hsc_milliquas, sdss)\n",
    "# matched: 557317       unmatched: 3708673\n",
    "matched_sdss = matched_sdss.iloc[:,\n",
    "                                [3, 4, 5, 6, 8, 9, 10, 11, 12, 13, 14, 15, 16, 17, 18]]\n",
    "# drop matched ones in hsc, then append matched ones of sdss to hsc\n",
    "hsc_milliquas = hsc_milliquas.drop(matched_sdss['index_hsc'])\n",
    "matched_sdss.index = matched_sdss['index_hsc']\n",
    "hsc_milliquas = hsc_milliquas.append(matched_sdss)\n",
    "# append unmatched ones of sdss to cfis\n",
    "unmatch_sdss = sdss.drop(matched_sdss['index_sdss'])\n",
    "hsc_milliquas = hsc_milliquas.append(unmatch_sdss)\n",
    "# reset index and save\n",
    "hsc_milliquas.reset_index(drop=True, inplace = True)\n",
    "hsc_milliquas['index_hsc'] = hsc_milliquas.index.values.tolist()\n",
    "hsc_milliquas.to_hdf('/home/yufeng/projects/rrg-kyi/yufeng/image_classification/data/newHSC/hsc_milliquas_sdss.h5', \n",
    "                                 key='hsc_milliquas_sdss', mode='w')"
   ]
  },
  {
   "cell_type": "code",
   "execution_count": 6,
   "metadata": {},
   "outputs": [
    {
     "data": {
      "text/html": [
       "<div>\n",
       "<style scoped>\n",
       "    .dataframe tbody tr th:only-of-type {\n",
       "        vertical-align: middle;\n",
       "    }\n",
       "\n",
       "    .dataframe tbody tr th {\n",
       "        vertical-align: top;\n",
       "    }\n",
       "\n",
       "    .dataframe thead th {\n",
       "        text-align: right;\n",
       "    }\n",
       "</style>\n",
       "<table border=\"1\" class=\"dataframe\">\n",
       "  <thead>\n",
       "    <tr style=\"text-align: right;\">\n",
       "      <th></th>\n",
       "      <th>dec</th>\n",
       "      <th>index_hsc</th>\n",
       "      <th>index_milliquas</th>\n",
       "      <th>index_sdss</th>\n",
       "      <th>object_id</th>\n",
       "      <th>prob_galaxy_milliquas</th>\n",
       "      <th>prob_galaxy_sdss</th>\n",
       "      <th>prob_qso_milliquas</th>\n",
       "      <th>prob_qso_sdss</th>\n",
       "      <th>prob_star_milliquas</th>\n",
       "      <th>prob_star_sdss</th>\n",
       "      <th>r_cmodel_mag</th>\n",
       "      <th>r_deblend_psfmag</th>\n",
       "      <th>r_extendedness_value</th>\n",
       "      <th>ra</th>\n",
       "    </tr>\n",
       "  </thead>\n",
       "  <tbody>\n",
       "    <tr>\n",
       "      <th>0</th>\n",
       "      <td>-5.859030</td>\n",
       "      <td>0</td>\n",
       "      <td>NaN</td>\n",
       "      <td>NaN</td>\n",
       "      <td>3.642466e+16</td>\n",
       "      <td>0.0</td>\n",
       "      <td>NaN</td>\n",
       "      <td>NaN</td>\n",
       "      <td>NaN</td>\n",
       "      <td>0.0</td>\n",
       "      <td>NaN</td>\n",
       "      <td>NaN</td>\n",
       "      <td>NaN</td>\n",
       "      <td>NaN</td>\n",
       "      <td>35.196141</td>\n",
       "    </tr>\n",
       "    <tr>\n",
       "      <th>1</th>\n",
       "      <td>-5.854682</td>\n",
       "      <td>1</td>\n",
       "      <td>NaN</td>\n",
       "      <td>NaN</td>\n",
       "      <td>3.642466e+16</td>\n",
       "      <td>0.0</td>\n",
       "      <td>NaN</td>\n",
       "      <td>NaN</td>\n",
       "      <td>NaN</td>\n",
       "      <td>0.0</td>\n",
       "      <td>NaN</td>\n",
       "      <td>NaN</td>\n",
       "      <td>NaN</td>\n",
       "      <td>NaN</td>\n",
       "      <td>35.193129</td>\n",
       "    </tr>\n",
       "    <tr>\n",
       "      <th>2</th>\n",
       "      <td>-5.857883</td>\n",
       "      <td>2</td>\n",
       "      <td>NaN</td>\n",
       "      <td>NaN</td>\n",
       "      <td>3.642466e+16</td>\n",
       "      <td>0.0</td>\n",
       "      <td>NaN</td>\n",
       "      <td>NaN</td>\n",
       "      <td>NaN</td>\n",
       "      <td>0.0</td>\n",
       "      <td>NaN</td>\n",
       "      <td>21.470358</td>\n",
       "      <td>NaN</td>\n",
       "      <td>NaN</td>\n",
       "      <td>35.178514</td>\n",
       "    </tr>\n",
       "    <tr>\n",
       "      <th>3</th>\n",
       "      <td>-5.858021</td>\n",
       "      <td>3</td>\n",
       "      <td>NaN</td>\n",
       "      <td>NaN</td>\n",
       "      <td>3.642466e+16</td>\n",
       "      <td>0.0</td>\n",
       "      <td>NaN</td>\n",
       "      <td>NaN</td>\n",
       "      <td>NaN</td>\n",
       "      <td>0.0</td>\n",
       "      <td>NaN</td>\n",
       "      <td>24.937550</td>\n",
       "      <td>NaN</td>\n",
       "      <td>NaN</td>\n",
       "      <td>35.182197</td>\n",
       "    </tr>\n",
       "    <tr>\n",
       "      <th>4</th>\n",
       "      <td>-5.857964</td>\n",
       "      <td>4</td>\n",
       "      <td>NaN</td>\n",
       "      <td>NaN</td>\n",
       "      <td>3.642466e+16</td>\n",
       "      <td>0.0</td>\n",
       "      <td>NaN</td>\n",
       "      <td>NaN</td>\n",
       "      <td>NaN</td>\n",
       "      <td>0.0</td>\n",
       "      <td>NaN</td>\n",
       "      <td>25.265812</td>\n",
       "      <td>NaN</td>\n",
       "      <td>1.0</td>\n",
       "      <td>35.197719</td>\n",
       "    </tr>\n",
       "  </tbody>\n",
       "</table>\n",
       "</div>"
      ],
      "text/plain": [
       "        dec  index_hsc  index_milliquas  index_sdss     object_id  \\\n",
       "0 -5.859030          0              NaN         NaN  3.642466e+16   \n",
       "1 -5.854682          1              NaN         NaN  3.642466e+16   \n",
       "2 -5.857883          2              NaN         NaN  3.642466e+16   \n",
       "3 -5.858021          3              NaN         NaN  3.642466e+16   \n",
       "4 -5.857964          4              NaN         NaN  3.642466e+16   \n",
       "\n",
       "   prob_galaxy_milliquas  prob_galaxy_sdss  prob_qso_milliquas  prob_qso_sdss  \\\n",
       "0                    0.0               NaN                 NaN            NaN   \n",
       "1                    0.0               NaN                 NaN            NaN   \n",
       "2                    0.0               NaN                 NaN            NaN   \n",
       "3                    0.0               NaN                 NaN            NaN   \n",
       "4                    0.0               NaN                 NaN            NaN   \n",
       "\n",
       "   prob_star_milliquas  prob_star_sdss  r_cmodel_mag  r_deblend_psfmag  \\\n",
       "0                  0.0             NaN           NaN               NaN   \n",
       "1                  0.0             NaN           NaN               NaN   \n",
       "2                  0.0             NaN     21.470358               NaN   \n",
       "3                  0.0             NaN     24.937550               NaN   \n",
       "4                  0.0             NaN     25.265812               NaN   \n",
       "\n",
       "   r_extendedness_value         ra  \n",
       "0                   NaN  35.196141  \n",
       "1                   NaN  35.193129  \n",
       "2                   NaN  35.178514  \n",
       "3                   NaN  35.182197  \n",
       "4                   1.0  35.197719  "
      ]
     },
     "execution_count": 6,
     "metadata": {},
     "output_type": "execute_result"
    }
   ],
   "source": [
    "hsc_milliquas.head()"
   ]
  },
  {
   "cell_type": "markdown",
   "metadata": {},
   "source": [
    "### C. Gaia"
   ]
  },
  {
   "cell_type": "code",
   "execution_count": 7,
   "metadata": {},
   "outputs": [
    {
     "name": "stdout",
     "output_type": "stream",
     "text": [
      "cross...\n",
      "end\n",
      "concat...\n"
     ]
    }
   ],
   "source": [
    "gaia = pd.read_table(\"/home/yufeng/projects/rrg-kyi/yufeng/image_classification/data/gaia/gdr2ext.dat\", sep=\"\\s+\", header=None)\n",
    "gaia = gaia[[3, 4, 1, 2]]\n",
    "gaia = gaia.rename(columns={3: 'ra', 4: 'dec', 1: 'prob_qso_gaia', 2: 'prob_galaxy_gaia'}).dropna()\n",
    "gaia['prob_star_gaia'] = 1 - gaia['prob_qso_gaia'] - gaia['prob_galaxy_gaia']\n",
    "indexNames = gaia[ (gaia['dec'] < -28.18982478) | (gaia['dec'] > 68.89301978) ].index\n",
    "gaia.drop(indexNames , inplace=True)\n",
    "gaia['index_gaia'] = gaia.index.values.tolist()\n",
    "# total: 1735926 within cfis footprint\n",
    "hsc_milliquas_sdss = pd.read_hdf('/home/yufeng/projects/rrg-kyi/yufeng/image_classification/data/newHSC/hsc_milliquas_sdss.h5'\n",
    "                            , 'hsc_milliquas_sdss')\n",
    "matched_gaia = cross_match(hsc_milliquas_sdss, gaia)\n",
    "# matched: 648582       unmatched:  1087344\n",
    "matched_gaia = matched_gaia.iloc[:,\n",
    "                               [3, 4, 5, 6, 8, 9, 10, 11, 12, 13, 14, 15, 16, 17, 18, 19, 20, 21,  22]]\n",
    "# drop matched ones in hsc, then append matched ones of sdss to hsc\n",
    "hsc_milliquas_sdss = hsc_milliquas_sdss.drop(matched_gaia['index_hsc'])\n",
    "matched_gaia.index = matched_gaia['index_hsc']\n",
    "hsc_milliquas_sdss = hsc_milliquas_sdss.append(matched_gaia)\n",
    "# append unmatched ones of sdss to cfis\n",
    "unmatch_gaia = gaia.drop(matched_gaia['index_gaia'])\n",
    "hsc_milliquas_sdss = hsc_milliquas_sdss.append(unmatch_gaia)\n",
    "# reset index and save\n",
    "hsc_milliquas_sdss.reset_index(drop=True, inplace = True)\n",
    "hsc_milliquas_sdss['index_hsc'] = hsc_milliquas_sdss.index.values.tolist()\n",
    "hsc_milliquas_sdss.to_hdf('/home/yufeng/projects/rrg-kyi/yufeng/image_classification/data/newHSC/hsc_milliquas_sdss_gaia.h5', \n",
    "                                 key='hsc_milliquas_sdss_gaia', mode='w')"
   ]
  },
  {
   "cell_type": "code",
   "execution_count": 13,
   "metadata": {
    "scrolled": true
   },
   "outputs": [
    {
     "data": {
      "text/html": [
       "<div>\n",
       "<style scoped>\n",
       "    .dataframe tbody tr th:only-of-type {\n",
       "        vertical-align: middle;\n",
       "    }\n",
       "\n",
       "    .dataframe tbody tr th {\n",
       "        vertical-align: top;\n",
       "    }\n",
       "\n",
       "    .dataframe thead th {\n",
       "        text-align: right;\n",
       "    }\n",
       "</style>\n",
       "<table border=\"1\" class=\"dataframe\">\n",
       "  <thead>\n",
       "    <tr style=\"text-align: right;\">\n",
       "      <th></th>\n",
       "      <th>dec</th>\n",
       "      <th>index_gaia</th>\n",
       "      <th>index_hsc</th>\n",
       "      <th>index_milliquas</th>\n",
       "      <th>index_sdss</th>\n",
       "      <th>object_id</th>\n",
       "      <th>prob_galaxy_gaia</th>\n",
       "      <th>prob_galaxy_milliquas</th>\n",
       "      <th>prob_galaxy_sdss</th>\n",
       "      <th>prob_qso_gaia</th>\n",
       "      <th>prob_qso_milliquas</th>\n",
       "      <th>prob_qso_sdss</th>\n",
       "      <th>prob_star_gaia</th>\n",
       "      <th>prob_star_milliquas</th>\n",
       "      <th>prob_star_sdss</th>\n",
       "      <th>r_cmodel_mag</th>\n",
       "      <th>r_deblend_psfmag</th>\n",
       "      <th>r_extendedness_value</th>\n",
       "      <th>ra</th>\n",
       "    </tr>\n",
       "  </thead>\n",
       "  <tbody>\n",
       "    <tr>\n",
       "      <th>0</th>\n",
       "      <td>-5.859030</td>\n",
       "      <td>NaN</td>\n",
       "      <td>0</td>\n",
       "      <td>NaN</td>\n",
       "      <td>NaN</td>\n",
       "      <td>3.642466e+16</td>\n",
       "      <td>NaN</td>\n",
       "      <td>0.0</td>\n",
       "      <td>NaN</td>\n",
       "      <td>NaN</td>\n",
       "      <td>NaN</td>\n",
       "      <td>NaN</td>\n",
       "      <td>NaN</td>\n",
       "      <td>0.0</td>\n",
       "      <td>NaN</td>\n",
       "      <td>NaN</td>\n",
       "      <td>NaN</td>\n",
       "      <td>NaN</td>\n",
       "      <td>35.196141</td>\n",
       "    </tr>\n",
       "    <tr>\n",
       "      <th>1</th>\n",
       "      <td>-5.854682</td>\n",
       "      <td>NaN</td>\n",
       "      <td>1</td>\n",
       "      <td>NaN</td>\n",
       "      <td>NaN</td>\n",
       "      <td>3.642466e+16</td>\n",
       "      <td>NaN</td>\n",
       "      <td>0.0</td>\n",
       "      <td>NaN</td>\n",
       "      <td>NaN</td>\n",
       "      <td>NaN</td>\n",
       "      <td>NaN</td>\n",
       "      <td>NaN</td>\n",
       "      <td>0.0</td>\n",
       "      <td>NaN</td>\n",
       "      <td>NaN</td>\n",
       "      <td>NaN</td>\n",
       "      <td>NaN</td>\n",
       "      <td>35.193129</td>\n",
       "    </tr>\n",
       "    <tr>\n",
       "      <th>2</th>\n",
       "      <td>-5.857883</td>\n",
       "      <td>NaN</td>\n",
       "      <td>2</td>\n",
       "      <td>NaN</td>\n",
       "      <td>NaN</td>\n",
       "      <td>3.642466e+16</td>\n",
       "      <td>NaN</td>\n",
       "      <td>0.0</td>\n",
       "      <td>NaN</td>\n",
       "      <td>NaN</td>\n",
       "      <td>NaN</td>\n",
       "      <td>NaN</td>\n",
       "      <td>NaN</td>\n",
       "      <td>0.0</td>\n",
       "      <td>NaN</td>\n",
       "      <td>21.470358</td>\n",
       "      <td>NaN</td>\n",
       "      <td>NaN</td>\n",
       "      <td>35.178514</td>\n",
       "    </tr>\n",
       "    <tr>\n",
       "      <th>3</th>\n",
       "      <td>-5.858021</td>\n",
       "      <td>NaN</td>\n",
       "      <td>3</td>\n",
       "      <td>NaN</td>\n",
       "      <td>NaN</td>\n",
       "      <td>3.642466e+16</td>\n",
       "      <td>NaN</td>\n",
       "      <td>0.0</td>\n",
       "      <td>NaN</td>\n",
       "      <td>NaN</td>\n",
       "      <td>NaN</td>\n",
       "      <td>NaN</td>\n",
       "      <td>NaN</td>\n",
       "      <td>0.0</td>\n",
       "      <td>NaN</td>\n",
       "      <td>24.937550</td>\n",
       "      <td>NaN</td>\n",
       "      <td>NaN</td>\n",
       "      <td>35.182197</td>\n",
       "    </tr>\n",
       "    <tr>\n",
       "      <th>4</th>\n",
       "      <td>-5.857964</td>\n",
       "      <td>NaN</td>\n",
       "      <td>4</td>\n",
       "      <td>NaN</td>\n",
       "      <td>NaN</td>\n",
       "      <td>3.642466e+16</td>\n",
       "      <td>NaN</td>\n",
       "      <td>0.0</td>\n",
       "      <td>NaN</td>\n",
       "      <td>NaN</td>\n",
       "      <td>NaN</td>\n",
       "      <td>NaN</td>\n",
       "      <td>NaN</td>\n",
       "      <td>0.0</td>\n",
       "      <td>NaN</td>\n",
       "      <td>25.265812</td>\n",
       "      <td>NaN</td>\n",
       "      <td>1.0</td>\n",
       "      <td>35.197719</td>\n",
       "    </tr>\n",
       "  </tbody>\n",
       "</table>\n",
       "</div>"
      ],
      "text/plain": [
       "        dec  index_gaia  index_hsc  index_milliquas  index_sdss     object_id  \\\n",
       "0 -5.859030         NaN          0              NaN         NaN  3.642466e+16   \n",
       "1 -5.854682         NaN          1              NaN         NaN  3.642466e+16   \n",
       "2 -5.857883         NaN          2              NaN         NaN  3.642466e+16   \n",
       "3 -5.858021         NaN          3              NaN         NaN  3.642466e+16   \n",
       "4 -5.857964         NaN          4              NaN         NaN  3.642466e+16   \n",
       "\n",
       "   prob_galaxy_gaia  prob_galaxy_milliquas  prob_galaxy_sdss  prob_qso_gaia  \\\n",
       "0               NaN                    0.0               NaN            NaN   \n",
       "1               NaN                    0.0               NaN            NaN   \n",
       "2               NaN                    0.0               NaN            NaN   \n",
       "3               NaN                    0.0               NaN            NaN   \n",
       "4               NaN                    0.0               NaN            NaN   \n",
       "\n",
       "   prob_qso_milliquas  prob_qso_sdss  prob_star_gaia  prob_star_milliquas  \\\n",
       "0                 NaN            NaN             NaN                  0.0   \n",
       "1                 NaN            NaN             NaN                  0.0   \n",
       "2                 NaN            NaN             NaN                  0.0   \n",
       "3                 NaN            NaN             NaN                  0.0   \n",
       "4                 NaN            NaN             NaN                  0.0   \n",
       "\n",
       "   prob_star_sdss  r_cmodel_mag  r_deblend_psfmag  r_extendedness_value  \\\n",
       "0             NaN           NaN               NaN                   NaN   \n",
       "1             NaN           NaN               NaN                   NaN   \n",
       "2             NaN     21.470358               NaN                   NaN   \n",
       "3             NaN     24.937550               NaN                   NaN   \n",
       "4             NaN     25.265812               NaN                   1.0   \n",
       "\n",
       "          ra  \n",
       "0  35.196141  \n",
       "1  35.193129  \n",
       "2  35.178514  \n",
       "3  35.182197  \n",
       "4  35.197719  "
      ]
     },
     "execution_count": 13,
     "metadata": {},
     "output_type": "execute_result"
    }
   ],
   "source": [
    "hsc_milliquas_sdss.head() # 39440813 total"
   ]
  },
  {
   "cell_type": "markdown",
   "metadata": {},
   "source": [
    "# make a final catologue"
   ]
  },
  {
   "cell_type": "code",
   "execution_count": 6,
   "metadata": {},
   "outputs": [],
   "source": [
    "hsc_milliquas_sdss_gaia = pd.read_hdf('/home/yufeng/projects/rrg-kyi/yufeng/image_classification/data/newHSC/hsc_milliquas_sdss_gaia.h5'\n",
    "                            , 'hsc_milliquas_sdss_gaia')\n",
    "hsc_milliquas_sdss_gaia['prob_galaxy_gaia'] = hsc_milliquas_sdss_gaia['prob_galaxy_gaia'].fillna(0)\n",
    "hsc_milliquas_sdss_gaia['prob_qso_gaia'] = hsc_milliquas_sdss_gaia['prob_qso_gaia'].fillna(0)\n",
    "hsc_milliquas_sdss_gaia['prob_star_gaia'] = hsc_milliquas_sdss_gaia['prob_star_gaia'].fillna(0)\n",
    "hsc_milliquas_sdss_gaia['prob_galaxy_sdss'] = hsc_milliquas_sdss_gaia['prob_galaxy_sdss'].fillna(0)\n",
    "hsc_milliquas_sdss_gaia['prob_qso_sdss'] = hsc_milliquas_sdss_gaia['prob_qso_sdss'].fillna(0)\n",
    "hsc_milliquas_sdss_gaia['prob_star_sdss'] = hsc_milliquas_sdss_gaia['prob_star_sdss'].fillna(0)\n",
    "hsc_milliquas_sdss_gaia['prob_galaxy_milliquas'] = hsc_milliquas_sdss_gaia['prob_galaxy_milliquas'].fillna(0)\n",
    "hsc_milliquas_sdss_gaia['prob_qso_milliquas'] = hsc_milliquas_sdss_gaia['prob_qso_milliquas'].fillna(0)\n",
    "hsc_milliquas_sdss_gaia['prob_star_milliquas'] = hsc_milliquas_sdss_gaia['prob_star_milliquas'].fillna(0)\n",
    "hsc_milliquas_sdss_gaia['r_extendedness_value'] = hsc_milliquas_sdss_gaia['r_extendedness_value'].fillna(-1)"
   ]
  },
  {
   "cell_type": "code",
   "execution_count": 16,
   "metadata": {
    "scrolled": true
   },
   "outputs": [],
   "source": [
    "final_cata = hsc_milliquas_sdss_gaia[['ra', 'dec', 'prob_galaxy_gaia', 'prob_qso_gaia', 'prob_star_gaia',\n",
    "                                                  'prob_galaxy_sdss', 'prob_qso_sdss', 'prob_star_sdss',\n",
    "                                                  'prob_galaxy_milliquas', 'prob_qso_milliquas', 'prob_star_milliquas','r_extendedness_value']]"
   ]
  },
  {
   "cell_type": "markdown",
   "metadata": {},
   "source": [
    "p_qso = p_qso_mq exists and p_qso_mq > 0.5\n",
    "        if not, mean(non-zero qso)\n",
    "\n",
    "p_galaxy = mean(non-zero galaxy)\n",
    "\n",
    "p_star =mean(non-zero prob in gaia + other non-zero prob"
   ]
  },
  {
   "cell_type": "code",
   "execution_count": 17,
   "metadata": {
    "collapsed": true
   },
   "outputs": [
    {
     "name": "stderr",
     "output_type": "stream",
     "text": [
      "/home/yufeng/jupyter_py3/lib/python3.6/site-packages/ipykernel_launcher.py:2: SettingWithCopyWarning: \n",
      "A value is trying to be set on a copy of a slice from a DataFrame.\n",
      "Try using .loc[row_indexer,col_indexer] = value instead\n",
      "\n",
      "See the caveats in the documentation: http://pandas.pydata.org/pandas-docs/stable/user_guide/indexing.html#returning-a-view-versus-a-copy\n",
      "  \n"
     ]
    }
   ],
   "source": [
    "# qso\n",
    "final_cata['qso_prob'] = 0\n",
    "final_cata.loc[final_cata['prob_qso_milliquas'] > 0.5, 'qso_prob'] = final_cata['prob_qso_milliquas']\n",
    "final_cata.loc[ (final_cata['prob_qso_milliquas'] == 0) & (final_cata['prob_qso_gaia'] != 0) & (final_cata['prob_qso_sdss'] != 0), \n",
    "               'qso_prob'] = (final_cata['prob_qso_gaia'] + final_cata['prob_qso_sdss'])/2\n",
    "final_cata.loc[ (final_cata['prob_qso_milliquas'] == 0) & (final_cata['prob_qso_gaia'] != 0) & (final_cata['prob_qso_sdss'] == 0), \n",
    "               'qso_prob'] = final_cata['prob_qso_gaia']\n",
    "final_cata.loc[ (final_cata['prob_qso_milliquas'] == 0) & (final_cata['prob_qso_gaia'] == 0) & (final_cata['prob_qso_sdss'] != 0), \n",
    "               'qso_prob'] = final_cata['prob_qso_sdss']\n",
    "final_cata.loc[ (final_cata['prob_qso_milliquas'] > 0) & (final_cata['prob_qso_milliquas'] < 0.5) & (final_cata['prob_qso_gaia'] == 0) & (final_cata['prob_qso_sdss'] != 0), \n",
    "               'qso_prob'] = (final_cata['prob_qso_sdss'] + final_cata['prob_qso_milliquas'])/2\n",
    "final_cata.loc[ (final_cata['prob_qso_milliquas'] > 0) & (final_cata['prob_qso_milliquas'] < 0.5) & (final_cata['prob_qso_gaia'] != 0) & (final_cata['prob_qso_sdss'] == 0), \n",
    "               'qso_prob'] = (final_cata['prob_qso_gaia'] + final_cata['prob_qso_milliquas'])/2\n",
    "final_cata.loc[ (final_cata['prob_qso_milliquas'] > 0) & (final_cata['prob_qso_milliquas'] < 0.5) & (final_cata['prob_qso_gaia'] == 0) & (final_cata['prob_qso_sdss'] == 0), \n",
    "               'qso_prob'] = final_cata['prob_qso_milliquas']"
   ]
  },
  {
   "cell_type": "code",
   "execution_count": 19,
   "metadata": {
    "collapsed": true
   },
   "outputs": [
    {
     "name": "stderr",
     "output_type": "stream",
     "text": [
      "/home/yufeng/jupyter_py3/lib/python3.6/site-packages/ipykernel_launcher.py:2: SettingWithCopyWarning: \n",
      "A value is trying to be set on a copy of a slice from a DataFrame.\n",
      "Try using .loc[row_indexer,col_indexer] = value instead\n",
      "\n",
      "See the caveats in the documentation: http://pandas.pydata.org/pandas-docs/stable/user_guide/indexing.html#returning-a-view-versus-a-copy\n",
      "  \n"
     ]
    }
   ],
   "source": [
    "# galaxy\n",
    "final_cata['galaxy_prob'] = 0\n",
    "final_cata.loc[(final_cata['prob_galaxy_sdss'] != 0) & (final_cata['prob_galaxy_gaia'] == 0), \n",
    "               'galaxy_prob'] = final_cata['prob_galaxy_sdss']\n",
    "final_cata.loc[(final_cata['prob_galaxy_sdss'] == 0) & (final_cata['prob_galaxy_gaia'] != 0), \n",
    "               'galaxy_prob'] = final_cata['prob_galaxy_gaia']\n",
    "final_cata.loc[(final_cata['prob_galaxy_sdss'] != 0) & (final_cata['prob_galaxy_gaia'] != 0), \n",
    "               'galaxy_prob'] = (final_cata['prob_galaxy_gaia'] + final_cata['prob_galaxy_sdss'])/2"
   ]
  },
  {
   "cell_type": "code",
   "execution_count": 24,
   "metadata": {
    "collapsed": true
   },
   "outputs": [
    {
     "name": "stderr",
     "output_type": "stream",
     "text": [
      "/home/yufeng/jupyter_py3/lib/python3.6/site-packages/ipykernel_launcher.py:2: SettingWithCopyWarning: \n",
      "A value is trying to be set on a copy of a slice from a DataFrame.\n",
      "Try using .loc[row_indexer,col_indexer] = value instead\n",
      "\n",
      "See the caveats in the documentation: http://pandas.pydata.org/pandas-docs/stable/user_guide/indexing.html#returning-a-view-versus-a-copy\n",
      "  \n"
     ]
    }
   ],
   "source": [
    "# star\n",
    "final_cata['star_prob'] = 0\n",
    "final_cata.loc[(final_cata['prob_star_sdss'] != 0) & (final_cata['prob_star_gaia'] == 0), \n",
    "               'star_prob'] = final_cata['prob_star_sdss']\n",
    "final_cata.loc[(final_cata['prob_star_sdss'] == 0) & (final_cata['prob_star_gaia'] != 0), \n",
    "               'star_prob'] = final_cata['prob_star_gaia']\n",
    "final_cata.loc[(final_cata['prob_star_sdss'] != 0) & (final_cata['prob_star_gaia'] != 0), \n",
    "               'star_prob'] = (final_cata['prob_star_gaia'] + final_cata['prob_star_sdss'])/2"
   ]
  },
  {
   "cell_type": "code",
   "execution_count": 26,
   "metadata": {},
   "outputs": [],
   "source": [
    "# save\n",
    "final_cata.to_hdf('/home/yufeng/projects/rrg-kyi/yufeng/image_classification/data/newHSC/final.h5', \n",
    "                                 key='final', mode='w')"
   ]
  },
  {
   "cell_type": "code",
   "execution_count": null,
   "metadata": {},
   "outputs": [],
   "source": []
  }
 ],
 "metadata": {
  "kernelspec": {
   "display_name": "Python 3",
   "language": "python",
   "name": "python3"
  },
  "language_info": {
   "codemirror_mode": {
    "name": "ipython",
    "version": 3
   },
   "file_extension": ".py",
   "mimetype": "text/x-python",
   "name": "python",
   "nbconvert_exporter": "python",
   "pygments_lexer": "ipython3",
   "version": "3.6.3"
  }
 },
 "nbformat": 4,
 "nbformat_minor": 2
}
