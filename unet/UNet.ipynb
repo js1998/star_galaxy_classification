{
 "cells": [
  {
   "cell_type": "markdown",
   "metadata": {},
   "source": [
    "# import"
   ]
  },
  {
   "cell_type": "code",
   "execution_count": 4,
   "metadata": {},
   "outputs": [],
   "source": [
    "from astropy.io import fits\n",
    "import numpy as np\n",
    "import torch\n",
    "from torch import nn, optim\n",
    "from torch.utils import data\n",
    "from astropy.nddata.utils import Cutout2D\n",
    "import glob, os\n",
    "from esutil import wcsutil\n",
    "from astropy.table import Table\n",
    "import pandas as pd\n",
    "import fitsio\n",
    "import seaborn as sns\n",
    "import matplotlib.pyplot as plt\n",
    "import collections\n",
    "from random import randint\n",
    "import math\n",
    "import sys\n",
    "from astropy.visualization import hist\n",
    "from torch.utils.data import DataLoader\n",
    "from astroML.datasets import fetch_imaging_sample, fetch_sdss_S82standards\n",
    "import torch.nn.functional as F\n",
    "import skimage\n",
    "from tensorboardX import SummaryWriter"
   ]
  },
  {
   "cell_type": "markdown",
   "metadata": {},
   "source": [
    "# config"
   ]
  },
  {
   "cell_type": "code",
   "execution_count": 5,
   "metadata": {},
   "outputs": [],
   "source": [
    "import argparse\n",
    "\n",
    "# ----------------------------------------\n",
    "# Global variables within this script\n",
    "arg_lists = []\n",
    "parser = argparse.ArgumentParser()\n",
    "\n",
    "\n",
    "def str2bool(v):\n",
    "    return v.lower() in (\"true\", \"1\")\n",
    "\n",
    "\n",
    "def add_argument_group(name):\n",
    "    arg = parser.add_argument_group(name)\n",
    "    arg_lists.append(arg)\n",
    "    return arg\n",
    "\n",
    "\n",
    "# ----------------------------------------\n",
    "# Arguments for the main program\n",
    "main_arg = add_argument_group(\"Main\")\n",
    "\n",
    "\n",
    "main_arg.add_argument(\"--mode\", type=str,\n",
    "                      default=\"train\",\n",
    "                      choices=[\"train\", \"test\"],\n",
    "                      help=\"Run mode\")\n",
    "\n",
    "# ----------------------------------------\n",
    "# Arguments for training\n",
    "train_arg = add_argument_group(\"Training\")\n",
    "\n",
    "\n",
    "train_arg.add_argument(\"--data_dir\", type=str,\n",
    "                       default=\"/Users/kwang/Downloads/cifar-10-batches-py\",\n",
    "                       help=\"Directory with CIFAR10 data\")\n",
    "\n",
    "train_arg.add_argument(\"--learning_rate\", type=float,\n",
    "                       default=1e-3,\n",
    "                       help=\"Learning rate (gradient step size)\")\n",
    "\n",
    "train_arg.add_argument(\"--batch_size\", type=int,\n",
    "                       default=1,\n",
    "                       help=\"Size of each training batch\")\n",
    "\n",
    "train_arg.add_argument(\"--num_epoch\", type=int,\n",
    "                       default=100,\n",
    "                       help=\"Number of epochs to train\")\n",
    "\n",
    "train_arg.add_argument(\"--val_intv\", type=int,\n",
    "                       default=1000,\n",
    "                       help=\"Validation interval\")\n",
    "\n",
    "train_arg.add_argument(\"--rep_intv\", type=int,\n",
    "                       default=150,\n",
    "                       help=\"Report interval\")\n",
    "\n",
    "train_arg.add_argument(\"--log_dir\", type=str,\n",
    "                       default=\"/home/yufeng/projects/rrg-kyi/yufeng/image_classification/unet/data/loss_plot\",\n",
    "                       help=\"Directory to save logs and current model\")\n",
    "\n",
    "train_arg.add_argument(\"--save_dir\", type=str,\n",
    "                       default=\"./save\",\n",
    "                       help=\"Directory to save the best model\")\n",
    "\n",
    "train_arg.add_argument(\"--resume\", type=str2bool,\n",
    "                       default=True,\n",
    "                       help=\"Whether to resume training from existing checkpoint\")\n",
    "# ----------------------------------------\n",
    "# Arguments for model\n",
    "model_arg = add_argument_group(\"Model\")\n",
    "\n",
    "model_arg.add_argument(\"--feature_type\", type=str,\n",
    "                       default=\"hog\",\n",
    "                       choices=[\"hog\", \"h_histogram\", \"rgb\"],\n",
    "                       help=\"Type of feature to be used\")\n",
    "\n",
    "model_arg.add_argument(\"--loss_type\", type=str,\n",
    "                       default=\"cross_entropy\",\n",
    "                       choices=[\"cross_entropy\", \"svm\"],\n",
    "                       help=\"Type of data loss to be used\")\n",
    "\n",
    "model_arg.add_argument(\"--normalize\", type=str2bool,\n",
    "                       default=True,\n",
    "                       help=\"Whether to normalize with mean/std or not\")\n",
    "\n",
    "model_arg.add_argument(\"--l2_reg\", type=float,\n",
    "                       default=1e-3,\n",
    "                       help=\"L2 Regularization strength\")\n",
    "\n",
    "model_arg.add_argument(\"--num_unit\", type=int,\n",
    "                       default=64,\n",
    "                       help=\"Number of neurons in the hidden layer\")\n",
    "\n",
    "model_arg.add_argument(\"--num_hidden\", type=int,\n",
    "                       default=3,\n",
    "                       help=\"Number of hidden layers\")\n",
    "\n",
    "model_arg.add_argument(\"--num_class\", type=int,\n",
    "                       default=10,\n",
    "                       help=\"Number of classes in the dataset\")\n",
    "\n",
    "model_arg.add_argument(\"--activ_type\", type=str,\n",
    "                       default=\"relu\",\n",
    "                       choices=[\"relu\", \"tanh\"],\n",
    "                       help=\"Activation type\")\n",
    "\n",
    "\n",
    "def get_config():\n",
    "    config, unparsed = parser.parse_known_args()\n",
    "\n",
    "    return config, unparsed\n",
    "\n",
    "\n",
    "def print_usage():\n",
    "    parser.print_usage()"
   ]
  },
  {
   "cell_type": "code",
   "execution_count": 6,
   "metadata": {},
   "outputs": [],
   "source": [
    "class DoubleConv(nn.Module):\n",
    "    def __init__(self, in_ch, out_ch):\n",
    "        super(DoubleConv, self).__init__()\n",
    "        self.conv = nn.Sequential(\n",
    "            nn.Conv2d(in_ch, out_ch, 3, padding=1),\n",
    "            nn.BatchNorm2d(out_ch),\n",
    "            nn.ReLU(inplace=True),\n",
    "            nn.Conv2d(out_ch, out_ch, 3, padding=1),\n",
    "            nn.BatchNorm2d(out_ch),\n",
    "            nn.ReLU(inplace=True)\n",
    "        )\n",
    "\n",
    "    def forward(self, input):\n",
    "        return self.conv(input)\n",
    "\n",
    "\n",
    "class MyUnet(nn.Module):\n",
    "    def __init__(self,in_ch,out_ch):\n",
    "        super(MyUnet, self).__init__()\n",
    "\n",
    "        self.conv1 = DoubleConv(in_ch, 64)\n",
    "        self.pool1 = nn.MaxPool2d(2)\n",
    "        self.conv2 = DoubleConv(64, 128)\n",
    "        self.pool2 = nn.MaxPool2d(2)\n",
    "        self.conv3 = DoubleConv(128, 256)\n",
    "        self.pool3 = nn.MaxPool2d(2)\n",
    "        self.conv4 = DoubleConv(256, 512)\n",
    "        self.pool4 = nn.MaxPool2d(2)\n",
    "        self.conv5 = DoubleConv(512, 1024)\n",
    "        self.up6 = nn.ConvTranspose2d(1024, 512, 2, stride=2)\n",
    "        self.conv6 = DoubleConv(1024, 512)\n",
    "        self.up7 = nn.ConvTranspose2d(512, 256, 2, stride=2)\n",
    "        self.conv7 = DoubleConv(512, 256)\n",
    "        self.up8 = nn.ConvTranspose2d(256, 128, 2, stride=2)\n",
    "        self.conv8 = DoubleConv(256, 128)\n",
    "        self.up9 = nn.ConvTranspose2d(128, 64, 2, stride=2)\n",
    "        self.conv9 = DoubleConv(128, 64)\n",
    "        self.conv10 = nn.Conv2d(64,out_ch, 1)\n",
    "\n",
    "    def forward(self,x):\n",
    "        c1=self.conv1(x)\n",
    "        p1=self.pool1(c1)\n",
    "        c2=self.conv2(p1)\n",
    "        p2=self.pool2(c2)\n",
    "        c3=self.conv3(p2)\n",
    "        p3=self.pool3(c3)\n",
    "        c4=self.conv4(p3)\n",
    "        p4=self.pool4(c4)\n",
    "        c5=self.conv5(p4)\n",
    "        up_6= self.up6(c5)\n",
    "        merge6 = torch.cat([up_6, c4], dim=1)\n",
    "        c6=self.conv6(merge6)\n",
    "        up_7=self.up7(c6)\n",
    "        merge7 = torch.cat([up_7, c3], dim=1)\n",
    "        c7=self.conv7(merge7)\n",
    "        up_8=self.up8(c7)\n",
    "        merge8 = torch.cat([up_8, c2], dim=1)\n",
    "        c8=self.conv8(merge8)\n",
    "        up_9=self.up9(c8)\n",
    "        merge9=torch.cat([up_9,c1],dim=1)\n",
    "        c9=self.conv9(merge9)\n",
    "        c10=self.conv10(c9)\n",
    "        #out = nn.Sigmoid()(c10)\n",
    "        return c10"
   ]
  },
  {
   "cell_type": "markdown",
   "metadata": {},
   "source": [
    "# DataWrap"
   ]
  },
  {
   "cell_type": "code",
   "execution_count": 7,
   "metadata": {},
   "outputs": [],
   "source": [
    "class PitcairnDataset(data.Dataset):\n",
    "    def __init__(self, config, mode):\n",
    "        # mode is \"train\", \"validation\" or \"test\"\n",
    "        self.config = config\n",
    "        print(\"Loading PitcairnDataset\")\n",
    "        data, label = load_data()\n",
    "        self.data = data\n",
    "        self.label = label\n",
    "        print(\"done.\")\n",
    "    \n",
    "    def __len__(self):\n",
    "        return (self.data.shape[0])\n",
    "    \n",
    "    def __getitem__(self, index):\n",
    "        data_cur = self.data[index]\n",
    "        # data\n",
    "        data_cur = torch.from_numpy(data_cur.astype(np.float32))\n",
    "        # label\n",
    "        label_cur = self.label[index]\n",
    "        return data_cur, label_cur"
   ]
  },
  {
   "cell_type": "code",
   "execution_count": 8,
   "metadata": {},
   "outputs": [],
   "source": [
    "def load_data():\n",
    "    # read input images\n",
    "    os.chdir(\"/home/yufeng/scratch/cfis\")\n",
    "    data = []\n",
    "    label = []\n",
    "    x_slice = 264\n",
    "    y_slice = 258\n",
    "    x_num = 8\n",
    "    y_num = 18\n",
    "    \n",
    "    for file in glob.glob(\"*.fits.fz\"):\n",
    "        file_id = file[:-8]\n",
    "        print(file_id)\n",
    "        data_image = fits.open(file, memmap=True)\n",
    "        path = '/home/yufeng/projects/rrg-kyi/yufeng/image_classification/data/label_image/'+file_id+'.fits.gz'\n",
    "        label_image = fits.open(path)\n",
    "        for k in range(1, 41):\n",
    "            label_image_blur = skimage.filters.gaussian(np.array(label_image[k].data), sigma=0.4, truncate=3.5, multichannel=True)\n",
    "            for i in range(x_num):\n",
    "                for j in range(y_num):\n",
    "                    x = np.array(data_image[k].data.T[i*x_slice:(i+1)*x_slice, j*y_slice:(j+1)*y_slice])\n",
    "                    y = np.array(label_image_blur[i*x_slice:(i+1)*x_slice, j*y_slice:(j+1)*y_slice,:])\n",
    "                    if np.any(y>0.5):\n",
    "                        data += [x]\n",
    "                        label += [y]\n",
    "            break\n",
    "                \n",
    "    data = np.array(data)\n",
    "    data = np.transpose(data.reshape(data.shape[0], data.shape[1], data.shape[2], 1), (0, 3, 1, 2))\n",
    "    label = np.array(label)\n",
    "    label = np.transpose(label, (0, 3, 1, 2))\n",
    "    data = data[:, :, :256, :256]\n",
    "    label = label[:, :, :256, :256]\n",
    "    print(np.array(data).shape)\n",
    "    print(np.array(label).shape)\n",
    "    return data, label"
   ]
  },
  {
   "cell_type": "code",
   "execution_count": 43,
   "metadata": {},
   "outputs": [],
   "source": [
    "def load_data():\n",
    "    # read input images\n",
    "    os.chdir(\"/home/yufeng/scratch/cfis\")\n",
    "    data = []\n",
    "    label = []\n",
    "    x_slice = 264\n",
    "    y_slice = 258\n",
    "    x_num = 8\n",
    "    y_num = 18\n",
    "    # cropping images based on object\n",
    "    \n",
    "    for file in glob.glob(\"*.fits.fz\"):\n",
    "        file_id = file[:-8]\n",
    "        print(file_id)\n",
    "        data_image = fits.open(file, memmap=True)\n",
    "        path = '/home/yufeng/projects/rrg-kyi/yufeng/image_classification/data/label_image/'+file_id+'.fits.gz'\n",
    "        label_image = fits.open(path)\n",
    "        for k in range(1, 41):\n",
    "            x = data_image[k].data\n",
    "            y = label_image[k].data\n",
    "            label_pixel = y != 0.25\n",
    "            print(y[label_pixel])\n",
    "    data = np.array(data)\n",
    "    data = np.transpose(data.reshape(data.shape[0], data.shape[1], data.shape[2], 1), (0, 3, 1, 2))\n",
    "    label = np.array(label)\n",
    "    label = np.transpose(label, (0, 3, 1, 2))\n",
    "    data = data[:, :, :256, :256]\n",
    "    label = label[:, :, :256, :256]\n",
    "    print(np.array(data).shape)\n",
    "    print(np.array(label).shape)\n",
    "    return data, label"
   ]
  },
  {
   "cell_type": "markdown",
   "metadata": {},
   "source": [
    "# solution"
   ]
  },
  {
   "cell_type": "code",
   "execution_count": 13,
   "metadata": {},
   "outputs": [],
   "source": [
    "def train(config):\n",
    "    train_data = PitcairnDataset(config, mode=\"train\")\n",
    "    inc = 1\n",
    "    outc = 4\n",
    "    model = MyUnet(inc, outc)\n",
    "    \n",
    "    if torch.cuda.is_available():\n",
    "        model = model.cuda()\n",
    "    \n",
    "    tr_data_loader = DataLoader(\n",
    "        dataset=train_data,\n",
    "        batch_size=config.batch_size,\n",
    "        num_workers=2,\n",
    "        shuffle=True)\n",
    "    \n",
    "    model.train()\n",
    "    \n",
    "    loss = nn.PoissonNLLLoss()\n",
    "    \n",
    "    optimizer = optim.Adam(model.parameters(), lr = config.learning_rate)\n",
    "    \n",
    "    iter_idx = -1\n",
    "    tr_writer = SummaryWriter(\n",
    "        log_dir=os.path.join(config.log_dir, \"train\"))\n",
    "    va_writer = SummaryWriter(\n",
    "        log_dir=os.path.join(config.log_dir, \"valid\"))\n",
    "    \n",
    "    for epoch in range(config.num_epoch):\n",
    "        print(epoch)\n",
    "        prefix = \"Training Epoch {:3d}: \".format(epoch)\n",
    "        for data in tr_data_loader:\n",
    "            iter_idx += 1\n",
    "            x, y = data\n",
    "            \n",
    "            if torch.cuda.is_available():\n",
    "                x = x.cuda()\n",
    "                y = y.cuda()\n",
    "            \n",
    "            logits = model.forward(x)\n",
    "            \n",
    "            m = nn.Softmax2d()\n",
    "            logits = m(logits)\n",
    "            logits = torch.log(logits)\n",
    "            \n",
    "            temp_x = logits.detach().cpu().numpy()\n",
    "            temp_y = y.detach().cpu().numpy()\n",
    "            \n",
    "            label_pixel = temp_y != 0.25\n",
    "\n",
    "            #output_loss = loss(logits, y)\n",
    "            output_loss = loss(torch.from_numpy(temp_x[label_pixel]).requires_grad_(), torch.from_numpy(temp_y[label_pixel]).requires_grad_())\n",
    "            output_loss.backward()\n",
    "            optimizer.step()\n",
    "            optimizer.zero_grad()\n",
    "            tr_writer.add_scalar(\"loss\", output_loss, global_step=iter_idx)\n",
    "            if iter_idx % config.rep_intv == 0:\n",
    "                print(\"training loss: \" + str(output_loss))\n",
    "                print('prediction: ')\n",
    "                print(np.exp(temp_x[label_pixel]))\n",
    "                print('label: ')\n",
    "                print(temp_y[label_pixel])\n",
    "                                "
   ]
  },
  {
   "cell_type": "markdown",
   "metadata": {},
   "source": [
    "# main"
   ]
  },
  {
   "cell_type": "code",
   "execution_count": 15,
   "metadata": {},
   "outputs": [
    {
     "name": "stdout",
     "output_type": "stream",
     "text": [
      "usage: ipykernel_launcher.py [-h] [--mode {train,test}] [--data_dir DATA_DIR]\n",
      "                             [--learning_rate LEARNING_RATE]\n",
      "                             [--batch_size BATCH_SIZE] [--num_epoch NUM_EPOCH]\n",
      "                             [--val_intv VAL_INTV] [--rep_intv REP_INTV]\n",
      "                             [--log_dir LOG_DIR] [--save_dir SAVE_DIR]\n",
      "                             [--resume RESUME]\n",
      "                             [--feature_type {hog,h_histogram,rgb}]\n",
      "                             [--loss_type {cross_entropy,svm}]\n",
      "                             [--normalize NORMALIZE] [--l2_reg L2_REG]\n",
      "                             [--num_unit NUM_UNIT] [--num_hidden NUM_HIDDEN]\n",
      "                             [--num_class NUM_CLASS]\n",
      "                             [--activ_type {relu,tanh}]\n",
      "Loading PitcairnDataset\n",
      "2301818p\n",
      "2301538p\n",
      "2301539p\n",
      "(73, 1, 256, 256)\n",
      "(73, 4, 256, 256)\n",
      "done.\n",
      "0\n",
      "training loss: tensor(0.6023, dtype=torch.float64, grad_fn=<MeanBackward0>)\n",
      "prediction: \n",
      "[0.18348409 0.21227695 0.2611119  0.20448133 0.23948841 0.2623309\n",
      " 0.25210065 0.29580387 0.27577707 0.33488563 0.21057457 0.3200012\n",
      " 0.36378223 0.22564223 0.24489273 0.26430416 0.24435075 0.27597505\n",
      " 0.19922678 0.32439974 0.198127   0.20913653 0.18255188 0.28023103\n",
      " 0.19963448 0.22123313 0.18941897 0.2824035  0.2527487  0.22075996\n",
      " 0.22259992 0.35231754 0.21254537 0.2839607  0.23861222 0.25882894]\n",
      "label: \n",
      "[0.2495922  0.24071862 0.2495922  0.24071862 0.03875671 0.24071862\n",
      " 0.2495922  0.24071862 0.2495922  0.25122339 0.27784415 0.25122339\n",
      " 0.27784415 0.88372987 0.27784415 0.25122339 0.27784415 0.25122339\n",
      " 0.2495922  0.24071862 0.2495922  0.24071862 0.03875671 0.24071862\n",
      " 0.2495922  0.24071862 0.2495922  0.2495922  0.24071862 0.2495922\n",
      " 0.24071862 0.03875671 0.24071862 0.2495922  0.24071862 0.2495922 ]\n"
     ]
    },
    {
     "name": "stderr",
     "output_type": "stream",
     "text": [
      "WARNING:root:NaN or Inf found in input tensor.\n"
     ]
    },
    {
     "name": "stdout",
     "output_type": "stream",
     "text": [
      "1\n"
     ]
    },
    {
     "name": "stderr",
     "output_type": "stream",
     "text": [
      "WARNING:root:NaN or Inf found in input tensor.\n"
     ]
    },
    {
     "name": "stdout",
     "output_type": "stream",
     "text": [
      "2\n",
      "training loss: tensor(0.6023, dtype=torch.float64, grad_fn=<MeanBackward0>)\n",
      "prediction: \n",
      "[0.18348409 0.21227695 0.2611119  0.20448133 0.23948841 0.2623309\n",
      " 0.25210065 0.29580387 0.27577707 0.33488563 0.21057457 0.3200012\n",
      " 0.36378223 0.22564223 0.24489273 0.26430416 0.24435075 0.27597505\n",
      " 0.19922678 0.32439974 0.198127   0.20913653 0.18255188 0.28023103\n",
      " 0.19963448 0.22123313 0.18941897 0.2824035  0.2527487  0.22075996\n",
      " 0.22259992 0.35231754 0.21254537 0.2839607  0.23861222 0.25882894]\n",
      "label: \n",
      "[0.2495922  0.24071862 0.2495922  0.24071862 0.03875671 0.24071862\n",
      " 0.2495922  0.24071862 0.2495922  0.25122339 0.27784415 0.25122339\n",
      " 0.27784415 0.88372987 0.27784415 0.25122339 0.27784415 0.25122339\n",
      " 0.2495922  0.24071862 0.2495922  0.24071862 0.03875671 0.24071862\n",
      " 0.2495922  0.24071862 0.2495922  0.2495922  0.24071862 0.2495922\n",
      " 0.24071862 0.03875671 0.24071862 0.2495922  0.24071862 0.2495922 ]\n"
     ]
    },
    {
     "name": "stderr",
     "output_type": "stream",
     "text": [
      "WARNING:root:NaN or Inf found in input tensor.\n"
     ]
    },
    {
     "name": "stdout",
     "output_type": "stream",
     "text": [
      "3\n"
     ]
    },
    {
     "name": "stderr",
     "output_type": "stream",
     "text": [
      "WARNING:root:NaN or Inf found in input tensor.\n"
     ]
    },
    {
     "name": "stdout",
     "output_type": "stream",
     "text": [
      "4\n",
      "training loss: tensor(0.6056, dtype=torch.float64, grad_fn=<MeanBackward0>)\n",
      "prediction: \n",
      "[0.2584194  0.20465508 0.2576853  0.18521433 0.27033925 0.2531475\n",
      " 0.23699766 0.3095699  0.20003395 0.28789687 0.30849284 0.2041372\n",
      " 0.30194965 0.23822904 0.26198292 0.2632125  0.28657407 0.31386012\n",
      " 0.19309022 0.18822533 0.28363156 0.2077205  0.21462786 0.18890488\n",
      " 0.22547685 0.14561282 0.18200602 0.2605935  0.29862666 0.2545459\n",
      " 0.3051155  0.27680388 0.2959647  0.27431303 0.2582432  0.30409995]\n",
      "label: \n",
      "[0.2495922  0.24071862 0.2495922  0.24071862 0.03875671 0.24071862\n",
      " 0.2495922  0.24071862 0.2495922  0.2495922  0.24071862 0.2495922\n",
      " 0.24071862 0.03875671 0.24071862 0.2495922  0.24071862 0.2495922\n",
      " 0.25122339 0.27784415 0.25122339 0.27784415 0.88372987 0.27784415\n",
      " 0.25122339 0.27784415 0.25122339 0.2495922  0.24071862 0.2495922\n",
      " 0.24071862 0.03875671 0.24071862 0.2495922  0.24071862 0.2495922 ]\n"
     ]
    },
    {
     "name": "stderr",
     "output_type": "stream",
     "text": [
      "WARNING:root:NaN or Inf found in input tensor.\n"
     ]
    },
    {
     "name": "stdout",
     "output_type": "stream",
     "text": [
      "5\n"
     ]
    },
    {
     "name": "stderr",
     "output_type": "stream",
     "text": [
      "WARNING:root:NaN or Inf found in input tensor.\n"
     ]
    },
    {
     "name": "stdout",
     "output_type": "stream",
     "text": [
      "6\n"
     ]
    },
    {
     "name": "stderr",
     "output_type": "stream",
     "text": [
      "WARNING:root:NaN or Inf found in input tensor.\n"
     ]
    },
    {
     "name": "stdout",
     "output_type": "stream",
     "text": [
      "training loss: tensor(0.6002, dtype=torch.float64, grad_fn=<MeanBackward0>)\n",
      "prediction: \n",
      "[0.210582   0.2776994  0.20755157 0.19490014 0.3054655  0.27178067\n",
      " 0.13572167 0.26239696 0.20027344 0.31111288 0.24767347 0.37654895\n",
      " 0.26946074 0.18153298 0.24430989 0.27350977 0.3751353  0.37309584\n",
      " 0.2213444  0.25589928 0.24014798 0.3242446  0.28272355 0.27413404\n",
      " 0.23704606 0.20949425 0.16814665 0.25696066 0.21872783 0.17575145\n",
      " 0.2113945  0.23027802 0.20977534 0.3537225  0.15297358 0.25848404]\n",
      "label: \n",
      "[0.2495922  0.24071862 0.2495922  0.24071862 0.03875671 0.24071862\n",
      " 0.2495922  0.24071862 0.2495922  0.2495922  0.24071862 0.2495922\n",
      " 0.24071862 0.03875671 0.24071862 0.2495922  0.24071862 0.2495922\n",
      " 0.25122339 0.27784415 0.25122339 0.27784415 0.88372987 0.27784415\n",
      " 0.25122339 0.27784415 0.25122339 0.2495922  0.24071862 0.2495922\n",
      " 0.24071862 0.03875671 0.24071862 0.2495922  0.24071862 0.2495922 ]\n",
      "7\n"
     ]
    },
    {
     "name": "stderr",
     "output_type": "stream",
     "text": [
      "WARNING:root:NaN or Inf found in input tensor.\n"
     ]
    },
    {
     "name": "stdout",
     "output_type": "stream",
     "text": [
      "8\n",
      "training loss: tensor(0.6095, dtype=torch.float64, grad_fn=<MeanBackward0>)\n",
      "prediction: \n",
      "[0.39528176 0.30409664 0.2917194  0.3698804  0.36868083 0.29779068\n",
      " 0.34883863 0.33896428 0.2756625  0.25314093 0.3125767  0.27750018\n",
      " 0.22063406 0.24809517 0.2699029  0.26907116 0.2803226  0.28054884\n",
      " 0.15930891 0.15215252 0.17862393 0.18895333 0.20414115 0.19104165\n",
      " 0.17962427 0.17266427 0.2149133  0.19226845 0.23117408 0.25215647\n",
      " 0.2205322  0.17908296 0.24126479 0.20246601 0.20804887 0.22887537]\n",
      "label: \n",
      "[0.2495922  0.24071862 0.2495922  0.24071862 0.03875671 0.24071862\n",
      " 0.2495922  0.24071862 0.2495922  0.2495922  0.24071862 0.2495922\n",
      " 0.24071862 0.03875671 0.24071862 0.2495922  0.24071862 0.2495922\n",
      " 0.25122339 0.27784415 0.25122339 0.27784415 0.88372987 0.27784415\n",
      " 0.25122339 0.27784415 0.25122339 0.2495922  0.24071862 0.2495922\n",
      " 0.24071862 0.03875671 0.24071862 0.2495922  0.24071862 0.2495922 ]\n"
     ]
    },
    {
     "name": "stderr",
     "output_type": "stream",
     "text": [
      "WARNING:root:NaN or Inf found in input tensor.\n"
     ]
    },
    {
     "name": "stdout",
     "output_type": "stream",
     "text": [
      "9\n"
     ]
    },
    {
     "name": "stderr",
     "output_type": "stream",
     "text": [
      "WARNING:root:NaN or Inf found in input tensor.\n"
     ]
    },
    {
     "name": "stdout",
     "output_type": "stream",
     "text": [
      "10\n"
     ]
    },
    {
     "name": "stderr",
     "output_type": "stream",
     "text": [
      "WARNING:root:NaN or Inf found in input tensor.\n"
     ]
    },
    {
     "name": "stdout",
     "output_type": "stream",
     "text": [
      "training loss: tensor(0.5992, dtype=torch.float64, grad_fn=<MeanBackward0>)\n",
      "prediction: \n",
      "[0.18269175 0.24775532 0.28062475 0.22538687 0.22361538 0.26687804\n",
      " 0.23587362 0.28562915 0.19679362 0.29305527 0.29908204 0.23229848\n",
      " 0.36205953 0.2553057  0.23323417 0.26253265 0.24783055 0.33277637\n",
      " 0.2371162  0.20417038 0.28842828 0.17008525 0.24188317 0.19727315\n",
      " 0.25700033 0.19433862 0.17728435 0.2871368  0.24899219 0.1986485\n",
      " 0.24246842 0.2791957  0.3026146  0.2445934  0.2722017  0.29314572]\n",
      "label: \n",
      "[0.2495922  0.24071862 0.2495922  0.24071862 0.03875671 0.24071862\n",
      " 0.2495922  0.24071862 0.2495922  0.25122339 0.27784415 0.25122339\n",
      " 0.27784415 0.88372987 0.27784415 0.25122339 0.27784415 0.25122339\n",
      " 0.2495922  0.24071862 0.2495922  0.24071862 0.03875671 0.24071862\n",
      " 0.2495922  0.24071862 0.2495922  0.2495922  0.24071862 0.2495922\n",
      " 0.24071862 0.03875671 0.24071862 0.2495922  0.24071862 0.2495922 ]\n",
      "11\n"
     ]
    },
    {
     "name": "stderr",
     "output_type": "stream",
     "text": [
      "WARNING:root:NaN or Inf found in input tensor.\n"
     ]
    },
    {
     "name": "stdout",
     "output_type": "stream",
     "text": [
      "12\n",
      "training loss: tensor(1.5589, dtype=torch.float64, grad_fn=<MeanBackward0>)\n",
      "prediction: \n",
      "[1.27369640e-04 9.70266938e-01 8.94860804e-01 1.69597670e-01\n",
      " 9.10556972e-01 9.92114305e-01 3.70779306e-01 9.85299587e-01\n",
      " 8.80366385e-01 9.74631961e-03 8.17528518e-04 1.04727365e-01\n",
      " 2.33546421e-01 2.16640736e-04 4.55995789e-03 4.80762959e-01\n",
      " 1.36701576e-02 1.19104192e-01 9.90124285e-01 2.89092921e-02\n",
      " 3.99885146e-04 5.95987141e-01 8.92255530e-02 3.22777452e-03\n",
      " 1.48223236e-01 1.00939698e-03 4.98242793e-04 2.06235609e-06\n",
      " 6.24851509e-06 1.18177695e-05 8.68750329e-04 8.28166037e-07\n",
      " 9.79816759e-05 2.34477382e-04 2.09070131e-05 3.11775730e-05]\n",
      "label: \n",
      "[0.2495922  0.24071862 0.2495922  0.24071862 0.03875671 0.24071862\n",
      " 0.2495922  0.24071862 0.2495922  0.25122339 0.27784415 0.25122339\n",
      " 0.27784415 0.88372987 0.27784415 0.25122339 0.27784415 0.25122339\n",
      " 0.2495922  0.24071862 0.2495922  0.24071862 0.03875671 0.24071862\n",
      " 0.2495922  0.24071862 0.2495922  0.2495922  0.24071862 0.2495922\n",
      " 0.24071862 0.03875671 0.24071862 0.2495922  0.24071862 0.2495922 ]\n"
     ]
    },
    {
     "name": "stderr",
     "output_type": "stream",
     "text": [
      "WARNING:root:NaN or Inf found in input tensor.\n"
     ]
    },
    {
     "name": "stdout",
     "output_type": "stream",
     "text": [
      "13\n"
     ]
    },
    {
     "name": "stderr",
     "output_type": "stream",
     "text": [
      "WARNING:root:NaN or Inf found in input tensor.\n"
     ]
    },
    {
     "name": "stdout",
     "output_type": "stream",
     "text": [
      "14\n"
     ]
    },
    {
     "name": "stderr",
     "output_type": "stream",
     "text": [
      "WARNING:root:NaN or Inf found in input tensor.\n"
     ]
    },
    {
     "name": "stdout",
     "output_type": "stream",
     "text": [
      "training loss: tensor(0.6086, dtype=torch.float64, grad_fn=<MeanBackward0>)\n",
      "prediction: \n",
      "[0.239475   0.45613787 0.2953507  0.25101095 0.2921384  0.20423515\n",
      " 0.31301504 0.1601404  0.16855866 0.3167801  0.2240127  0.310923\n",
      " 0.2613767  0.18346807 0.2494062  0.24430342 0.2338754  0.3096518\n",
      " 0.20988928 0.14591539 0.13918199 0.24567792 0.20420583 0.3302803\n",
      " 0.23195831 0.33322904 0.2017361  0.2338556  0.17393409 0.25454426\n",
      " 0.24193451 0.32018772 0.21607834 0.21072322 0.2727551  0.32005346]\n",
      "label: \n",
      "[0.2495922  0.24071862 0.2495922  0.24071862 0.03875671 0.24071862\n",
      " 0.2495922  0.24071862 0.2495922  0.2495922  0.24071862 0.2495922\n",
      " 0.24071862 0.03875671 0.24071862 0.2495922  0.24071862 0.2495922\n",
      " 0.25122339 0.27784415 0.25122339 0.27784415 0.88372987 0.27784415\n",
      " 0.25122339 0.27784415 0.25122339 0.2495922  0.24071862 0.2495922\n",
      " 0.24071862 0.03875671 0.24071862 0.2495922  0.24071862 0.2495922 ]\n",
      "15\n"
     ]
    },
    {
     "name": "stderr",
     "output_type": "stream",
     "text": [
      "WARNING:root:NaN or Inf found in input tensor.\n"
     ]
    },
    {
     "name": "stdout",
     "output_type": "stream",
     "text": [
      "16\n"
     ]
    },
    {
     "name": "stderr",
     "output_type": "stream",
     "text": [
      "WARNING:root:NaN or Inf found in input tensor.\n"
     ]
    },
    {
     "name": "stdout",
     "output_type": "stream",
     "text": [
      "training loss: tensor(0.6013, dtype=torch.float64, grad_fn=<MeanBackward0>)\n",
      "prediction: \n",
      "[0.2741603  0.28647086 0.26750654 0.2648165  0.26852944 0.25868046\n",
      " 0.2693134  0.2690938  0.26481554 0.32344738 0.15251504 0.18559226\n",
      " 0.30620748 0.16650613 0.3423538  0.24452363 0.14529556 0.23455314\n",
      " 0.23029377 0.2374839  0.2505959  0.2570823  0.23305498 0.2624028\n",
      " 0.2523242  0.2460443  0.23827331 0.26875505 0.26632226 0.3132452\n",
      " 0.34418282 0.2757957  0.31038013 0.31447583 0.26452968 0.28833687\n",
      " 0.23189057 0.2237486  0.21271887 0.22011994 0.2123034  0.21943699\n",
      " 0.2308009  0.2158566  0.2304431  0.31069618 0.30376923 0.41099048\n",
      " 0.22295834 0.42758098 0.2178564  0.3187526  0.29945406 0.3652865\n",
      " 0.2636554  0.2522966  0.26917872 0.2579813  0.28611216 0.2594798\n",
      " 0.24756153 0.26900527 0.26646802 0.09710146 0.2773935  0.09017208\n",
      " 0.12665144 0.1301172  0.12940967 0.12224793 0.29072067 0.11182345]\n",
      "label: \n",
      "[0.2495922  0.24071862 0.2495922  0.24071862 0.03875671 0.24071862\n",
      " 0.2495922  0.24071862 0.2495922  0.2495922  0.24071862 0.2495922\n",
      " 0.24071862 0.03875671 0.24071862 0.2495922  0.24071862 0.2495922\n",
      " 0.2495922  0.24071862 0.2495922  0.24071862 0.03875671 0.24071862\n",
      " 0.2495922  0.24071862 0.2495922  0.2495922  0.24071862 0.2495922\n",
      " 0.24071862 0.03875671 0.24071862 0.2495922  0.24071862 0.2495922\n",
      " 0.25122339 0.27784415 0.25122339 0.27784415 0.88372987 0.27784415\n",
      " 0.25122339 0.27784415 0.25122339 0.25122339 0.27784415 0.25122339\n",
      " 0.27784415 0.88372987 0.27784415 0.25122339 0.27784415 0.25122339\n",
      " 0.2495922  0.24071862 0.2495922  0.24071862 0.03875671 0.24071862\n",
      " 0.2495922  0.24071862 0.2495922  0.2495922  0.24071862 0.2495922\n",
      " 0.24071862 0.03875671 0.24071862 0.2495922  0.24071862 0.2495922 ]\n",
      "17\n"
     ]
    },
    {
     "name": "stderr",
     "output_type": "stream",
     "text": [
      "WARNING:root:NaN or Inf found in input tensor.\n"
     ]
    },
    {
     "name": "stdout",
     "output_type": "stream",
     "text": [
      "18\n"
     ]
    },
    {
     "name": "stderr",
     "output_type": "stream",
     "text": [
      "WARNING:root:NaN or Inf found in input tensor.\n"
     ]
    },
    {
     "name": "stdout",
     "output_type": "stream",
     "text": [
      "training loss: tensor(nan, dtype=torch.float64, grad_fn=<MeanBackward0>)\n",
      "prediction: \n",
      "[]\n",
      "label: \n",
      "[]\n",
      "19\n"
     ]
    },
    {
     "name": "stderr",
     "output_type": "stream",
     "text": [
      "WARNING:root:NaN or Inf found in input tensor.\n"
     ]
    },
    {
     "name": "stdout",
     "output_type": "stream",
     "text": [
      "20\n"
     ]
    },
    {
     "name": "stderr",
     "output_type": "stream",
     "text": [
      "WARNING:root:NaN or Inf found in input tensor.\n"
     ]
    },
    {
     "name": "stdout",
     "output_type": "stream",
     "text": [
      "training loss: tensor(0.5988, dtype=torch.float64, grad_fn=<MeanBackward0>)\n",
      "prediction: \n",
      "[0.2399531  0.25225544 0.26118615 0.25446638 0.28999949 0.28434813\n",
      " 0.26803702 0.28449115 0.30176494 0.2669813  0.23985098 0.26306722\n",
      " 0.28373727 0.26744774 0.25744718 0.25932065 0.24117862 0.23403752\n",
      " 0.21989942 0.24033119 0.22980069 0.21523936 0.23858452 0.22307242\n",
      " 0.22628589 0.23383448 0.23622146 0.2731662  0.2675624  0.2459459\n",
      " 0.24655703 0.20396824 0.23513225 0.24635641 0.24049583 0.22797608]\n",
      "label: \n",
      "[0.2495922  0.24071862 0.2495922  0.24071862 0.03875671 0.24071862\n",
      " 0.2495922  0.24071862 0.2495922  0.2495922  0.24071862 0.2495922\n",
      " 0.24071862 0.03875671 0.24071862 0.2495922  0.24071862 0.2495922\n",
      " 0.25122339 0.27784415 0.25122339 0.27784415 0.88372987 0.27784415\n",
      " 0.25122339 0.27784415 0.25122339 0.2495922  0.24071862 0.2495922\n",
      " 0.24071862 0.03875671 0.24071862 0.2495922  0.24071862 0.2495922 ]\n",
      "21\n"
     ]
    },
    {
     "name": "stderr",
     "output_type": "stream",
     "text": [
      "WARNING:root:NaN or Inf found in input tensor.\n"
     ]
    },
    {
     "name": "stdout",
     "output_type": "stream",
     "text": [
      "22\n"
     ]
    },
    {
     "name": "stderr",
     "output_type": "stream",
     "text": [
      "WARNING:root:NaN or Inf found in input tensor.\n"
     ]
    },
    {
     "name": "stdout",
     "output_type": "stream",
     "text": [
      "training loss: tensor(0.8264, dtype=torch.float64, grad_fn=<MeanBackward0>)\n",
      "prediction: \n",
      "[1.05674669e-01 9.62998867e-01 1.60193726e-01 6.13986611e-01\n",
      " 8.95543694e-01 8.04422200e-01 1.09701455e-01 9.79502559e-01\n",
      " 7.86780000e-01 2.39364177e-01 3.71905714e-01 2.77417600e-01\n",
      " 2.98359066e-01 2.43291587e-01 2.00821579e-01 2.92240202e-01\n",
      " 2.52560347e-01 3.05358976e-01 2.00991631e-02 5.21041965e-03\n",
      " 8.24850440e-01 8.42399243e-03 5.74256293e-03 1.71769317e-02\n",
      " 2.11646125e-01 1.87667701e-02 7.70912021e-02 2.53849268e-01\n",
      " 2.40827441e-01 2.17285439e-01 2.14658931e-01 2.91988850e-01\n",
      " 2.69723058e-01 2.34074071e-01 2.02821925e-01 2.41902053e-01\n",
      " 7.94255495e-01 2.35667862e-02 1.16522971e-03 3.68258297e-01\n",
      " 9.86188352e-02 1.74926803e-01 6.74486101e-01 1.10825629e-03\n",
      " 9.77925062e-02 2.62881041e-01 1.78022400e-01 2.15266004e-01\n",
      " 2.49363512e-01 2.24764302e-01 1.97365165e-01 2.03441367e-01\n",
      " 3.25498283e-01 1.17413864e-01 7.99706653e-02 8.22394714e-03\n",
      " 1.37905590e-02 9.33110155e-03 9.49351306e-05 3.47406697e-03\n",
      " 4.16630507e-03 6.22480176e-04 3.83362919e-02 2.43905485e-01\n",
      " 2.09244445e-01 2.90030956e-01 2.37618521e-01 2.39955246e-01\n",
      " 3.32090139e-01 2.70244420e-01 2.19119444e-01 3.35325152e-01]\n",
      "label: \n",
      "[0.2495922  0.24071862 0.2495922  0.24071862 0.03875671 0.24071862\n",
      " 0.2495922  0.24071862 0.2495922  0.25122339 0.27784415 0.25122339\n",
      " 0.27784415 0.88372987 0.27784415 0.25122339 0.27784415 0.25122339\n",
      " 0.25122339 0.27784415 0.25122339 0.27784415 0.88372987 0.27784415\n",
      " 0.25122339 0.27784415 0.25122339 0.2495922  0.24071862 0.2495922\n",
      " 0.24071862 0.03875671 0.24071862 0.2495922  0.24071862 0.2495922\n",
      " 0.2495922  0.24071862 0.2495922  0.24071862 0.03875671 0.24071862\n",
      " 0.2495922  0.24071862 0.2495922  0.2495922  0.24071862 0.2495922\n",
      " 0.24071862 0.03875671 0.24071862 0.2495922  0.24071862 0.2495922\n",
      " 0.2495922  0.24071862 0.2495922  0.24071862 0.03875671 0.24071862\n",
      " 0.2495922  0.24071862 0.2495922  0.2495922  0.24071862 0.2495922\n",
      " 0.24071862 0.03875671 0.24071862 0.2495922  0.24071862 0.2495922 ]\n",
      "23\n"
     ]
    },
    {
     "name": "stderr",
     "output_type": "stream",
     "text": [
      "WARNING:root:NaN or Inf found in input tensor.\n"
     ]
    },
    {
     "name": "stdout",
     "output_type": "stream",
     "text": [
      "24\n"
     ]
    },
    {
     "name": "stderr",
     "output_type": "stream",
     "text": [
      "WARNING:root:NaN or Inf found in input tensor.\n"
     ]
    },
    {
     "name": "stdout",
     "output_type": "stream",
     "text": [
      "training loss: tensor(0.6224, dtype=torch.float64, grad_fn=<MeanBackward0>)\n",
      "prediction: \n",
      "[0.2629337  0.3664941  0.26760194 0.32729137 0.45452398 0.26053572\n",
      " 0.27925435 0.24091035 0.10787012 0.3747907  0.26220706 0.3938503\n",
      " 0.18917723 0.25593665 0.5062439  0.19033594 0.41387847 0.52281535\n",
      " 0.22002642 0.15932006 0.1663409  0.35945222 0.09820026 0.13526396\n",
      " 0.4548597  0.08105556 0.15413873 0.14224924 0.21197873 0.17220685\n",
      " 0.12407926 0.19133915 0.09795649 0.07554989 0.2641556  0.21517575]\n",
      "label: \n",
      "[0.2495922  0.24071862 0.2495922  0.24071862 0.03875671 0.24071862\n",
      " 0.2495922  0.24071862 0.2495922  0.25122339 0.27784415 0.25122339\n",
      " 0.27784415 0.88372987 0.27784415 0.25122339 0.27784415 0.25122339\n",
      " 0.2495922  0.24071862 0.2495922  0.24071862 0.03875671 0.24071862\n",
      " 0.2495922  0.24071862 0.2495922  0.2495922  0.24071862 0.2495922\n",
      " 0.24071862 0.03875671 0.24071862 0.2495922  0.24071862 0.2495922 ]\n",
      "25\n"
     ]
    },
    {
     "name": "stderr",
     "output_type": "stream",
     "text": [
      "WARNING:root:NaN or Inf found in input tensor.\n"
     ]
    },
    {
     "name": "stdout",
     "output_type": "stream",
     "text": [
      "26\n"
     ]
    },
    {
     "name": "stderr",
     "output_type": "stream",
     "text": [
      "WARNING:root:NaN or Inf found in input tensor.\n"
     ]
    },
    {
     "name": "stdout",
     "output_type": "stream",
     "text": [
      "training loss: tensor(0.6011, dtype=torch.float64, grad_fn=<MeanBackward0>)\n",
      "prediction: \n",
      "[0.30059084 0.28743726 0.23454319 0.26508924 0.23341663 0.29050446\n",
      " 0.27567163 0.21402314 0.16846058 0.2668732  0.26082206 0.27716586\n",
      " 0.23146984 0.24287523 0.28929126 0.21295513 0.2527849  0.21831295\n",
      " 0.20249954 0.21936446 0.19293448 0.25901613 0.23262091 0.21010026\n",
      " 0.29816917 0.25679567 0.2769642  0.23003635 0.23237628 0.29535645\n",
      " 0.24442472 0.2910872  0.21010394 0.21320409 0.2763963  0.3362623 ]\n",
      "label: \n",
      "[0.2495922  0.24071862 0.2495922  0.24071862 0.03875671 0.24071862\n",
      " 0.2495922  0.24071862 0.2495922  0.2495922  0.24071862 0.2495922\n",
      " 0.24071862 0.03875671 0.24071862 0.2495922  0.24071862 0.2495922\n",
      " 0.25122339 0.27784415 0.25122339 0.27784415 0.88372987 0.27784415\n",
      " 0.25122339 0.27784415 0.25122339 0.2495922  0.24071862 0.2495922\n",
      " 0.24071862 0.03875671 0.24071862 0.2495922  0.24071862 0.2495922 ]\n",
      "27\n"
     ]
    },
    {
     "name": "stderr",
     "output_type": "stream",
     "text": [
      "WARNING:root:NaN or Inf found in input tensor.\n"
     ]
    },
    {
     "name": "stdout",
     "output_type": "stream",
     "text": [
      "28\n"
     ]
    },
    {
     "name": "stderr",
     "output_type": "stream",
     "text": [
      "WARNING:root:NaN or Inf found in input tensor.\n"
     ]
    },
    {
     "name": "stdout",
     "output_type": "stream",
     "text": [
      "training loss: tensor(0.5996, dtype=torch.float64, grad_fn=<MeanBackward0>)\n",
      "prediction: \n",
      "[0.28082472 0.24600986 0.24361028 0.27402362 0.26103032 0.24914242\n",
      " 0.28259382 0.2831951  0.2546305  0.24401483 0.23989281 0.2903643\n",
      " 0.24892288 0.25138363 0.25047365 0.25089684 0.24241923 0.26316595\n",
      " 0.20238498 0.24874185 0.20434506 0.23160765 0.22974023 0.24023025\n",
      " 0.2236646  0.22813825 0.22038068 0.27277547 0.26535544 0.26168036\n",
      " 0.24544588 0.25784585 0.26015368 0.24284476 0.24624743 0.26182285]\n",
      "label: \n",
      "[0.2495922  0.24071862 0.2495922  0.24071862 0.03875671 0.24071862\n",
      " 0.2495922  0.24071862 0.2495922  0.2495922  0.24071862 0.2495922\n",
      " 0.24071862 0.03875671 0.24071862 0.2495922  0.24071862 0.2495922\n",
      " 0.25122339 0.27784415 0.25122339 0.27784415 0.88372987 0.27784415\n",
      " 0.25122339 0.27784415 0.25122339 0.2495922  0.24071862 0.2495922\n",
      " 0.24071862 0.03875671 0.24071862 0.2495922  0.24071862 0.2495922 ]\n",
      "29\n"
     ]
    },
    {
     "name": "stderr",
     "output_type": "stream",
     "text": [
      "WARNING:root:NaN or Inf found in input tensor.\n"
     ]
    },
    {
     "name": "stdout",
     "output_type": "stream",
     "text": [
      "30\n"
     ]
    },
    {
     "name": "stderr",
     "output_type": "stream",
     "text": [
      "WARNING:root:NaN or Inf found in input tensor.\n"
     ]
    },
    {
     "name": "stdout",
     "output_type": "stream",
     "text": [
      "training loss: tensor(0.9652, dtype=torch.float64, grad_fn=<MeanBackward0>)\n",
      "prediction: \n",
      "[8.2851619e-01 6.7474771e-01 2.5942054e-04 4.2108071e-01 8.4831113e-01\n",
      " 1.8377427e-03 6.9330502e-01 3.6643922e-01 1.0441660e-03 1.2268192e-01\n",
      " 3.0592126e-01 9.7606713e-01 2.5991359e-01 6.9567904e-02 6.8952763e-01\n",
      " 1.2671003e-01 4.9721926e-01 6.9239214e-02 5.4844776e-03 5.5993041e-03\n",
      " 1.0426894e-02 3.1546223e-01 7.5398915e-02 2.9520348e-01 1.7810945e-01\n",
      " 1.2855759e-01 9.2026120e-01 4.3317348e-02 1.3731706e-02 1.3246407e-02\n",
      " 3.5434957e-03 6.7220330e-03 1.3431162e-02 1.8755811e-03 7.7839456e-03\n",
      " 9.4553391e-03]\n",
      "label: \n",
      "[0.2495922  0.24071862 0.2495922  0.24071862 0.03875671 0.24071862\n",
      " 0.2495922  0.24071862 0.2495922  0.25122339 0.27784415 0.25122339\n",
      " 0.27784415 0.88372987 0.27784415 0.25122339 0.27784415 0.25122339\n",
      " 0.2495922  0.24071862 0.2495922  0.24071862 0.03875671 0.24071862\n",
      " 0.2495922  0.24071862 0.2495922  0.2495922  0.24071862 0.2495922\n",
      " 0.24071862 0.03875671 0.24071862 0.2495922  0.24071862 0.2495922 ]\n",
      "31\n"
     ]
    },
    {
     "name": "stderr",
     "output_type": "stream",
     "text": [
      "WARNING:root:NaN or Inf found in input tensor.\n"
     ]
    },
    {
     "name": "stdout",
     "output_type": "stream",
     "text": [
      "32\n"
     ]
    },
    {
     "name": "stderr",
     "output_type": "stream",
     "text": [
      "WARNING:root:NaN or Inf found in input tensor.\n"
     ]
    },
    {
     "name": "stdout",
     "output_type": "stream",
     "text": [
      "training loss: tensor(0.6011, dtype=torch.float64, grad_fn=<MeanBackward0>)\n",
      "prediction: \n",
      "[0.30059084 0.28743726 0.23454319 0.26508924 0.23341663 0.29050446\n",
      " 0.27567163 0.21402314 0.16846058 0.2668732  0.26082206 0.27716586\n",
      " 0.23146984 0.24287523 0.28929126 0.21295513 0.2527849  0.21831295\n",
      " 0.20249954 0.21936446 0.19293448 0.25901613 0.23262091 0.21010026\n",
      " 0.29816917 0.25679567 0.2769642  0.23003635 0.23237628 0.29535645\n",
      " 0.24442472 0.2910872  0.21010394 0.21320409 0.2763963  0.3362623 ]\n",
      "label: \n",
      "[0.2495922  0.24071862 0.2495922  0.24071862 0.03875671 0.24071862\n",
      " 0.2495922  0.24071862 0.2495922  0.2495922  0.24071862 0.2495922\n",
      " 0.24071862 0.03875671 0.24071862 0.2495922  0.24071862 0.2495922\n",
      " 0.25122339 0.27784415 0.25122339 0.27784415 0.88372987 0.27784415\n",
      " 0.25122339 0.27784415 0.25122339 0.2495922  0.24071862 0.2495922\n",
      " 0.24071862 0.03875671 0.24071862 0.2495922  0.24071862 0.2495922 ]\n",
      "33\n"
     ]
    },
    {
     "name": "stderr",
     "output_type": "stream",
     "text": [
      "WARNING:root:NaN or Inf found in input tensor.\n"
     ]
    },
    {
     "name": "stdout",
     "output_type": "stream",
     "text": [
      "34\n"
     ]
    },
    {
     "name": "stderr",
     "output_type": "stream",
     "text": [
      "WARNING:root:NaN or Inf found in input tensor.\n"
     ]
    },
    {
     "name": "stdout",
     "output_type": "stream",
     "text": [
      "training loss: tensor(0.6006, dtype=torch.float64, grad_fn=<MeanBackward0>)\n",
      "prediction: \n",
      "[0.19553657 0.2064915  0.2103762  0.27047893 0.20588969 0.24503617\n",
      " 0.24915689 0.30362836 0.2203246  0.23871265 0.21594495 0.19474901\n",
      " 0.2862314  0.3047817  0.23826016 0.3098298  0.24686192 0.2002585\n",
      " 0.43668187 0.24251227 0.2782908  0.300343   0.18791628 0.28934836\n",
      " 0.25930843 0.22461902 0.3257007  0.25316992 0.34675273 0.32704467\n",
      " 0.23339918 0.33017945 0.44133404 0.3486241  0.25000218 0.5027518\n",
      " 0.1682614  0.3012712  0.2824826  0.2109267  0.2677432  0.21168248\n",
      " 0.24288262 0.19267376 0.23261654 0.35256776 0.19162232 0.2574537\n",
      " 0.30386153 0.15785855 0.16319786 0.24154785 0.25663143 0.11986383\n",
      " 0.19952016 0.2497251  0.22885032 0.21825136 0.33845088 0.25393304\n",
      " 0.24865215 0.2790788  0.22135818 0.15554962 0.24567989 0.22075252\n",
      " 0.17650789 0.2071802  0.157208   0.09999826 0.24650447 0.17712592]\n",
      "label: \n",
      "[0.2495922  0.24071862 0.2495922  0.24071862 0.03875671 0.24071862\n",
      " 0.2495922  0.24071862 0.2495922  0.2495922  0.24071862 0.2495922\n",
      " 0.24071862 0.03875671 0.24071862 0.2495922  0.24071862 0.2495922\n",
      " 0.2495922  0.24071862 0.2495922  0.24071862 0.03875671 0.24071862\n",
      " 0.2495922  0.24071862 0.2495922  0.25122339 0.27784415 0.25122339\n",
      " 0.27784415 0.88372987 0.27784415 0.25122339 0.27784415 0.25122339\n",
      " 0.25122339 0.27784415 0.25122339 0.27784415 0.88372987 0.27784415\n",
      " 0.25122339 0.27784415 0.25122339 0.2495922  0.24071862 0.2495922\n",
      " 0.24071862 0.03875671 0.24071862 0.2495922  0.24071862 0.2495922\n",
      " 0.2495922  0.24071862 0.2495922  0.24071862 0.03875671 0.24071862\n",
      " 0.2495922  0.24071862 0.2495922  0.2495922  0.24071862 0.2495922\n",
      " 0.24071862 0.03875671 0.24071862 0.2495922  0.24071862 0.2495922 ]\n",
      "35\n"
     ]
    },
    {
     "name": "stderr",
     "output_type": "stream",
     "text": [
      "WARNING:root:NaN or Inf found in input tensor.\n"
     ]
    },
    {
     "name": "stdout",
     "output_type": "stream",
     "text": [
      "36\n"
     ]
    },
    {
     "name": "stderr",
     "output_type": "stream",
     "text": [
      "WARNING:root:NaN or Inf found in input tensor.\n"
     ]
    },
    {
     "name": "stdout",
     "output_type": "stream",
     "text": [
      "training loss: tensor(0.5969, dtype=torch.float64, grad_fn=<MeanBackward0>)\n",
      "prediction: \n",
      "[0.2568405  0.21376196 0.21234873 0.21798056 0.2699251  0.2451375\n",
      " 0.23041688 0.2543806  0.28230625 0.28489745 0.22966392 0.29881266\n",
      " 0.2820954  0.31582755 0.25774005 0.23173577 0.22751479 0.23936768\n",
      " 0.1905237  0.22309415 0.27206272 0.28521317 0.16934352 0.255372\n",
      " 0.22543508 0.24122263 0.23858199 0.26773834 0.33347994 0.21677586\n",
      " 0.21471086 0.24490392 0.24175048 0.3124123  0.27688196 0.2397441 ]\n",
      "label: \n",
      "[0.25122339 0.27784415 0.25122339 0.27784415 0.88372987 0.27784415\n",
      " 0.25122339 0.27784415 0.25122339 0.2495922  0.24071862 0.2495922\n",
      " 0.24071862 0.03875671 0.24071862 0.2495922  0.24071862 0.2495922\n",
      " 0.2495922  0.24071862 0.2495922  0.24071862 0.03875671 0.24071862\n",
      " 0.2495922  0.24071862 0.2495922  0.2495922  0.24071862 0.2495922\n",
      " 0.24071862 0.03875671 0.24071862 0.2495922  0.24071862 0.2495922 ]\n",
      "37\n"
     ]
    },
    {
     "name": "stderr",
     "output_type": "stream",
     "text": [
      "WARNING:root:NaN or Inf found in input tensor.\n"
     ]
    },
    {
     "name": "stdout",
     "output_type": "stream",
     "text": [
      "38\n"
     ]
    },
    {
     "name": "stderr",
     "output_type": "stream",
     "text": [
      "WARNING:root:NaN or Inf found in input tensor.\n"
     ]
    },
    {
     "name": "stdout",
     "output_type": "stream",
     "text": [
      "39\n",
      "training loss: tensor(0.6077, dtype=torch.float64, grad_fn=<MeanBackward0>)\n",
      "prediction: \n",
      "[0.20543522 0.22085284 0.25776374 0.23289283 0.1574118  0.20706646\n",
      " 0.19203219 0.24122068 0.2512122  0.30055654 0.2811779  0.21785384\n",
      " 0.349073   0.32433733 0.21472803 0.27384716 0.27180648 0.33542782\n",
      " 0.26808533 0.12297016 0.2613034  0.19138573 0.19942537 0.33002526\n",
      " 0.23761657 0.2703342  0.16125892 0.22592282 0.37499902 0.263079\n",
      " 0.22664846 0.31882545 0.24818026 0.29650402 0.21663861 0.25210112]\n",
      "label: \n",
      "[0.2495922  0.24071862 0.2495922  0.24071862 0.03875671 0.24071862\n",
      " 0.2495922  0.24071862 0.2495922  0.2495922  0.24071862 0.2495922\n",
      " 0.24071862 0.03875671 0.24071862 0.2495922  0.24071862 0.2495922\n",
      " 0.25122339 0.27784415 0.25122339 0.27784415 0.88372987 0.27784415\n",
      " 0.25122339 0.27784415 0.25122339 0.2495922  0.24071862 0.2495922\n",
      " 0.24071862 0.03875671 0.24071862 0.2495922  0.24071862 0.2495922 ]\n"
     ]
    },
    {
     "name": "stderr",
     "output_type": "stream",
     "text": [
      "WARNING:root:NaN or Inf found in input tensor.\n"
     ]
    },
    {
     "name": "stdout",
     "output_type": "stream",
     "text": [
      "40\n"
     ]
    },
    {
     "name": "stderr",
     "output_type": "stream",
     "text": [
      "WARNING:root:NaN or Inf found in input tensor.\n"
     ]
    },
    {
     "name": "stdout",
     "output_type": "stream",
     "text": [
      "41\n"
     ]
    },
    {
     "name": "stderr",
     "output_type": "stream",
     "text": [
      "WARNING:root:NaN or Inf found in input tensor.\n"
     ]
    },
    {
     "name": "stdout",
     "output_type": "stream",
     "text": [
      "training loss: tensor(1.0236, dtype=torch.float64, grad_fn=<MeanBackward0>)\n",
      "prediction: \n",
      "[2.9499888e-01 9.9331635e-01 3.7781569e-01 7.0952791e-01 9.1655207e-01\n",
      " 9.6315688e-01 6.8190056e-01 5.5241627e-01 7.3956376e-01 1.7221538e-02\n",
      " 3.0800081e-03 3.4603161e-01 1.5312116e-01 8.0261171e-02 3.0351002e-02\n",
      " 1.3916717e-01 4.0436003e-01 2.3351686e-01 6.8772310e-01 1.4980485e-03\n",
      " 2.6841763e-01 1.3441297e-01 2.7960725e-03 4.1898033e-03 1.7768179e-01\n",
      " 4.2328693e-02 2.2259329e-02 5.6471657e-05 2.1055804e-03 7.7351462e-03\n",
      " 2.9380058e-03 3.9057041e-04 2.3022809e-03 1.2503904e-03 8.9499709e-04\n",
      " 4.6600145e-03]\n",
      "label: \n",
      "[0.2495922  0.24071862 0.2495922  0.24071862 0.03875671 0.24071862\n",
      " 0.2495922  0.24071862 0.2495922  0.25122339 0.27784415 0.25122339\n",
      " 0.27784415 0.88372987 0.27784415 0.25122339 0.27784415 0.25122339\n",
      " 0.2495922  0.24071862 0.2495922  0.24071862 0.03875671 0.24071862\n",
      " 0.2495922  0.24071862 0.2495922  0.2495922  0.24071862 0.2495922\n",
      " 0.24071862 0.03875671 0.24071862 0.2495922  0.24071862 0.2495922 ]\n",
      "42\n"
     ]
    },
    {
     "name": "stderr",
     "output_type": "stream",
     "text": [
      "WARNING:root:NaN or Inf found in input tensor.\n"
     ]
    },
    {
     "name": "stdout",
     "output_type": "stream",
     "text": [
      "43\n"
     ]
    },
    {
     "name": "stderr",
     "output_type": "stream",
     "text": [
      "WARNING:root:NaN or Inf found in input tensor.\n"
     ]
    },
    {
     "name": "stdout",
     "output_type": "stream",
     "text": [
      "training loss: tensor(1.1090, dtype=torch.float64, grad_fn=<MeanBackward0>)\n",
      "prediction: \n",
      "[2.3441021e-01 3.6263806e-03 2.9362146e-02 4.2487115e-01 4.5430124e-02\n",
      " 1.4594369e-04 2.9857501e-01 3.5072781e-02 1.7331110e-02 5.2263087e-01\n",
      " 9.9320507e-01 9.7049695e-01 1.8322222e-01 8.7592679e-01 9.9611878e-01\n",
      " 2.1965660e-01 8.4814161e-01 5.9646547e-01 1.1703511e-03 7.6365506e-04\n",
      " 1.1990984e-04 3.7691534e-01 7.8459725e-02 2.5127985e-04 2.3851331e-01\n",
      " 3.0206944e-04 3.0722514e-01 2.4178849e-01 2.4049291e-03 2.1024520e-05\n",
      " 1.4991240e-02 1.8334722e-04 3.4839923e-03 2.4325502e-01 1.1648356e-01\n",
      " 7.8978322e-02]\n",
      "label: \n",
      "[0.25122339 0.27784415 0.25122339 0.27784415 0.88372987 0.27784415\n",
      " 0.25122339 0.27784415 0.25122339 0.2495922  0.24071862 0.2495922\n",
      " 0.24071862 0.03875671 0.24071862 0.2495922  0.24071862 0.2495922\n",
      " 0.2495922  0.24071862 0.2495922  0.24071862 0.03875671 0.24071862\n",
      " 0.2495922  0.24071862 0.2495922  0.2495922  0.24071862 0.2495922\n",
      " 0.24071862 0.03875671 0.24071862 0.2495922  0.24071862 0.2495922 ]\n",
      "44\n"
     ]
    },
    {
     "name": "stderr",
     "output_type": "stream",
     "text": [
      "WARNING:root:NaN or Inf found in input tensor.\n"
     ]
    },
    {
     "name": "stdout",
     "output_type": "stream",
     "text": [
      "45\n"
     ]
    },
    {
     "name": "stderr",
     "output_type": "stream",
     "text": [
      "WARNING:root:NaN or Inf found in input tensor.\n"
     ]
    },
    {
     "name": "stdout",
     "output_type": "stream",
     "text": [
      "training loss: tensor(0.6361, dtype=torch.float64, grad_fn=<MeanBackward0>)\n",
      "prediction: \n",
      "[0.18200219 0.22607914 0.18859917 0.11069814 0.10933634 0.1264434\n",
      " 0.20789112 0.19082761 0.177696   0.17567945 0.14959182 0.37174624\n",
      " 0.15177953 0.35504872 0.56637657 0.28111127 0.26509517 0.3723952\n",
      " 0.26286787 0.34616345 0.35582164 0.14684938 0.15859255 0.17512038\n",
      " 0.18919471 0.2681484  0.17212635 0.23213504 0.42517102 0.33927885\n",
      " 0.30563605 0.17086543 0.24056    0.2599987  0.28546265 0.3287844\n",
      " 0.19876012 0.1875726  0.20549667 0.4010936  0.29758835 0.28991872\n",
      " 0.30937693 0.30226812 0.2779422  0.4910413  0.3762763  0.25177702\n",
      " 0.34256443 0.40740424 0.14321367 0.22718415 0.3731131  0.17521648\n",
      " 0.35636976 0.24018477 0.25008255 0.34135884 0.4344827  0.4085175\n",
      " 0.29353723 0.23875582 0.37223545 0.10114413 0.04896088 0.03719787\n",
      " 0.20001988 0.06668159 0.0498498  0.23170583 0.07632907 0.1236039 ]\n",
      "label: \n",
      "[0.25114183 0.27598787 0.25114183 0.27598787 0.84148121 0.27598787\n",
      " 0.25114183 0.27598787 0.25114183 0.2495922  0.24071862 0.2495922\n",
      " 0.24071862 0.03875671 0.24071862 0.2495922  0.24071862 0.2495922\n",
      " 0.2495922  0.24071862 0.2495922  0.24071862 0.03875671 0.24071862\n",
      " 0.2495922  0.24071862 0.2495922  0.25122339 0.27784415 0.25122339\n",
      " 0.27784415 0.88372987 0.27784415 0.25122339 0.27784415 0.25122339\n",
      " 0.2495922  0.24071862 0.2495922  0.24071862 0.03875671 0.24071862\n",
      " 0.2495922  0.24071862 0.2495922  0.2495922  0.24071862 0.2495922\n",
      " 0.24071862 0.03875671 0.24071862 0.2495922  0.24071862 0.2495922\n",
      " 0.24967376 0.24257489 0.24967376 0.24257489 0.08100537 0.24257489\n",
      " 0.24967376 0.24257489 0.24967376 0.2495922  0.24071862 0.2495922\n",
      " 0.24071862 0.03875671 0.24071862 0.2495922  0.24071862 0.2495922 ]\n",
      "46\n"
     ]
    },
    {
     "name": "stderr",
     "output_type": "stream",
     "text": [
      "WARNING:root:NaN or Inf found in input tensor.\n"
     ]
    },
    {
     "name": "stdout",
     "output_type": "stream",
     "text": [
      "47\n",
      "training loss: tensor(0.6029, dtype=torch.float64, grad_fn=<MeanBackward0>)\n",
      "prediction: \n",
      "[0.29035145 0.23145983 0.2502727  0.19434655 0.25819162 0.22714458\n",
      " 0.18539347 0.2826719  0.23462828 0.28714815 0.3132538  0.26935583\n",
      " 0.27944946 0.20964749 0.23254769 0.27987307 0.29847416 0.21735026\n",
      " 0.1921556  0.20754863 0.19197206 0.16681987 0.24827403 0.20580696\n",
      " 0.17741258 0.15645711 0.27372763 0.23034476 0.24773769 0.28839946\n",
      " 0.35938412 0.2838869  0.3345008  0.35732085 0.26239678 0.27429384]\n",
      "label: \n",
      "[0.2495922  0.24071862 0.2495922  0.24071862 0.03875671 0.24071862\n",
      " 0.2495922  0.24071862 0.2495922  0.2495922  0.24071862 0.2495922\n",
      " 0.24071862 0.03875671 0.24071862 0.2495922  0.24071862 0.2495922\n",
      " 0.25122339 0.27784415 0.25122339 0.27784415 0.88372987 0.27784415\n",
      " 0.25122339 0.27784415 0.25122339 0.2495922  0.24071862 0.2495922\n",
      " 0.24071862 0.03875671 0.24071862 0.2495922  0.24071862 0.2495922 ]\n"
     ]
    },
    {
     "name": "stderr",
     "output_type": "stream",
     "text": [
      "WARNING:root:NaN or Inf found in input tensor.\n"
     ]
    },
    {
     "name": "stdout",
     "output_type": "stream",
     "text": [
      "48\n"
     ]
    },
    {
     "name": "stderr",
     "output_type": "stream",
     "text": [
      "WARNING:root:NaN or Inf found in input tensor.\n"
     ]
    },
    {
     "name": "stdout",
     "output_type": "stream",
     "text": [
      "49\n",
      "training loss: tensor(0.6036, dtype=torch.float64, grad_fn=<MeanBackward0>)\n",
      "prediction: \n",
      "[0.24327268 0.27953646 0.21838345 0.27326742 0.17760102 0.26159936\n",
      " 0.27169093 0.19821845 0.27847812 0.30827978 0.3530945  0.35472396\n",
      " 0.23202765 0.31331515 0.21657786 0.18308899 0.27863446 0.23860985\n",
      " 0.27529028 0.15184762 0.33806214 0.33098438 0.29997975 0.21503286\n",
      " 0.31435117 0.2915699  0.21706636 0.22706349 0.17686255 0.25643662\n",
      " 0.2736541  0.23276718 0.1738861  0.45189843 0.16479069 0.35092857\n",
      " 0.23454466 0.22373278 0.2181102  0.20459163 0.25479952 0.2909142\n",
      " 0.18070163 0.1610233  0.24427159 0.27416322 0.11171406 0.18954839\n",
      " 0.2535418  0.26099217 0.30445608 0.17414157 0.2171952  0.17579702\n",
      " 0.24689232 0.3448831  0.22544438 0.19115658 0.26761967 0.23245358\n",
      " 0.23325622 0.3491884  0.26018384 0.19049345 0.35832894 0.1992911\n",
      " 0.2407764  0.19292547 0.30507994 0.19087093 0.3393797  0.23466456]\n",
      "label: \n",
      "[0.2495922  0.24071862 0.2495922  0.24071862 0.03875671 0.24071862\n",
      " 0.2495922  0.24071862 0.2495922  0.2495922  0.24071862 0.2495922\n",
      " 0.24071862 0.03875671 0.24071862 0.2495922  0.24071862 0.2495922\n",
      " 0.2495922  0.24071862 0.2495922  0.24071862 0.03875671 0.24071862\n",
      " 0.2495922  0.24071862 0.2495922  0.2495922  0.24071862 0.2495922\n",
      " 0.24071862 0.03875671 0.24071862 0.2495922  0.24071862 0.2495922\n",
      " 0.25122339 0.27784415 0.25122339 0.27784415 0.88372987 0.27784415\n",
      " 0.25122339 0.27784415 0.25122339 0.25122339 0.27784415 0.25122339\n",
      " 0.27784415 0.88372987 0.27784415 0.25122339 0.27784415 0.25122339\n",
      " 0.2495922  0.24071862 0.2495922  0.24071862 0.03875671 0.24071862\n",
      " 0.2495922  0.24071862 0.2495922  0.2495922  0.24071862 0.2495922\n",
      " 0.24071862 0.03875671 0.24071862 0.2495922  0.24071862 0.2495922 ]\n"
     ]
    },
    {
     "name": "stderr",
     "output_type": "stream",
     "text": [
      "WARNING:root:NaN or Inf found in input tensor.\n"
     ]
    },
    {
     "name": "stdout",
     "output_type": "stream",
     "text": [
      "50\n"
     ]
    },
    {
     "name": "stderr",
     "output_type": "stream",
     "text": [
      "WARNING:root:NaN or Inf found in input tensor.\n"
     ]
    },
    {
     "name": "stdout",
     "output_type": "stream",
     "text": [
      "51\n"
     ]
    },
    {
     "name": "stderr",
     "output_type": "stream",
     "text": [
      "WARNING:root:NaN or Inf found in input tensor.\n"
     ]
    },
    {
     "name": "stdout",
     "output_type": "stream",
     "text": [
      "training loss: tensor(0.6886, dtype=torch.float64, grad_fn=<MeanBackward0>)\n",
      "prediction: \n",
      "[0.1532868  0.622842   0.46797723 0.20739265 0.5564793  0.6024348\n",
      " 0.1515407  0.529414   0.61775273 0.4777566  0.25056365 0.2831002\n",
      " 0.2771007  0.12582739 0.10494401 0.48828697 0.22012083 0.26424924\n",
      " 0.29292485 0.10715912 0.13673368 0.46719024 0.30149576 0.24634705\n",
      " 0.27917707 0.19050892 0.06789346 0.07603185 0.01943526 0.11218894\n",
      " 0.04831646 0.01619765 0.04627411 0.08099533 0.05995624 0.05010457]\n",
      "label: \n",
      "[0.2495922  0.24071862 0.2495922  0.24071862 0.03875671 0.24071862\n",
      " 0.2495922  0.24071862 0.2495922  0.25122339 0.27784415 0.25122339\n",
      " 0.27784415 0.88372987 0.27784415 0.25122339 0.27784415 0.25122339\n",
      " 0.2495922  0.24071862 0.2495922  0.24071862 0.03875671 0.24071862\n",
      " 0.2495922  0.24071862 0.2495922  0.2495922  0.24071862 0.2495922\n",
      " 0.24071862 0.03875671 0.24071862 0.2495922  0.24071862 0.2495922 ]\n",
      "52\n"
     ]
    },
    {
     "name": "stderr",
     "output_type": "stream",
     "text": [
      "WARNING:root:NaN or Inf found in input tensor.\n"
     ]
    },
    {
     "name": "stdout",
     "output_type": "stream",
     "text": [
      "53\n"
     ]
    },
    {
     "name": "stderr",
     "output_type": "stream",
     "text": [
      "WARNING:root:NaN or Inf found in input tensor.\n"
     ]
    },
    {
     "name": "stdout",
     "output_type": "stream",
     "text": [
      "training loss: tensor(0.6064, dtype=torch.float64, grad_fn=<MeanBackward0>)\n",
      "prediction: \n",
      "[0.15839964 0.18907252 0.1505608  0.20879725 0.14363052 0.18379433\n",
      " 0.20490523 0.14623283 0.12901774 0.3096138  0.29059675 0.3323227\n",
      " 0.24084915 0.33678955 0.272391   0.28625345 0.34317622 0.37041518\n",
      " 0.22862864 0.2173062  0.1982324  0.23970838 0.23090857 0.24403481\n",
      " 0.22623175 0.20948634 0.21151501 0.30335793 0.3030245  0.3188841\n",
      " 0.31064522 0.2886714  0.29977977 0.28260955 0.30110452 0.28905207]\n",
      "label: \n",
      "[0.2495922  0.24071862 0.2495922  0.24071862 0.03875671 0.24071862\n",
      " 0.2495922  0.24071862 0.2495922  0.2495922  0.24071862 0.2495922\n",
      " 0.24071862 0.03875671 0.24071862 0.2495922  0.24071862 0.2495922\n",
      " 0.25122339 0.27784415 0.25122339 0.27784415 0.88372987 0.27784415\n",
      " 0.25122339 0.27784415 0.25122339 0.2495922  0.24071862 0.2495922\n",
      " 0.24071862 0.03875671 0.24071862 0.2495922  0.24071862 0.2495922 ]\n",
      "54\n"
     ]
    },
    {
     "name": "stderr",
     "output_type": "stream",
     "text": [
      "WARNING:root:NaN or Inf found in input tensor.\n"
     ]
    },
    {
     "name": "stdout",
     "output_type": "stream",
     "text": [
      "55\n"
     ]
    },
    {
     "name": "stderr",
     "output_type": "stream",
     "text": [
      "WARNING:root:NaN or Inf found in input tensor.\n"
     ]
    },
    {
     "name": "stdout",
     "output_type": "stream",
     "text": [
      "training loss: tensor(0.9314, dtype=torch.float64, grad_fn=<MeanBackward0>)\n",
      "prediction: \n",
      "[4.95453358e-01 9.15644169e-01 9.86327082e-02 4.22033918e-04\n",
      " 7.74327159e-01 9.19828713e-01 8.81544471e-01 3.92877060e-04\n",
      " 7.94409633e-01 8.79167855e-01 7.91808903e-01 2.36537261e-03\n",
      " 1.16343431e-01 3.35466489e-02 5.48792817e-02 1.14704289e-01\n",
      " 1.28170148e-01 7.27131218e-02 1.05086707e-01 9.65955198e-01\n",
      " 1.61373261e-02 9.97181088e-02 3.29926610e-02 1.08516395e-01\n",
      " 3.87698084e-01 5.06459959e-02 8.43131363e-01 8.77673566e-01\n",
      " 9.73279327e-02 6.23939605e-03 9.79073811e-03 4.94092330e-03\n",
      " 1.88854113e-01 1.54004591e-02 1.71756431e-01 6.33299530e-01\n",
      " 5.05074509e-04 1.63183315e-04 3.35666980e-03 7.20011629e-03\n",
      " 1.74868735e-04 1.21866935e-03 3.57799837e-03 2.87109744e-02\n",
      " 5.98885177e-04 5.71363512e-03 3.44198756e-03 2.55818725e-01]\n",
      "label: \n",
      "[ 0.25112014  0.27661441  0.27661441  0.25112014  0.27549427  0.85574114\n",
      "  0.85574114  0.27549427  0.25112014  0.27661441  0.27661441  0.25112014\n",
      "  0.2497986   0.24521486  0.24521486  0.2497986   0.24541626  0.1410908\n",
      "  0.1410908   0.24541626  0.2497986   0.24521486  0.24521486  0.2497986\n",
      "  0.2495923   0.24031303  0.24031303  0.2495923   0.24072073  0.02952561\n",
      "  0.02952561  0.24072073  0.2495923   0.24031303  0.24031303  0.2495923\n",
      "  0.24948896  0.2378577   0.2378577   0.24948896  0.23836874 -0.02635755\n",
      " -0.02635755  0.23836874  0.24948896  0.2378577   0.2378577   0.24948896]\n",
      "56\n"
     ]
    },
    {
     "name": "stderr",
     "output_type": "stream",
     "text": [
      "WARNING:root:NaN or Inf found in input tensor.\n"
     ]
    },
    {
     "name": "stdout",
     "output_type": "stream",
     "text": [
      "57\n"
     ]
    },
    {
     "name": "stderr",
     "output_type": "stream",
     "text": [
      "WARNING:root:NaN or Inf found in input tensor.\n"
     ]
    },
    {
     "name": "stdout",
     "output_type": "stream",
     "text": [
      "training loss: tensor(0.6180, dtype=torch.float64, grad_fn=<MeanBackward0>)\n",
      "prediction: \n",
      "[0.45404437 0.27156648 0.21203424 0.2566087  0.37733272 0.21466953\n",
      " 0.15520717 0.35776925 0.18431388 0.21938941 0.4744013  0.3854529\n",
      " 0.3957054  0.2960979  0.39518535 0.33865073 0.36309233 0.3730865\n",
      " 0.20181116 0.10787757 0.21529806 0.1556484  0.24464148 0.25667432\n",
      " 0.34326246 0.14769806 0.17929246 0.12475511 0.14615463 0.18721484\n",
      " 0.19203748 0.0819279  0.13347079 0.16287968 0.13144034 0.26330715]\n",
      "label: \n",
      "[0.2495922  0.24071862 0.2495922  0.24071862 0.03875671 0.24071862\n",
      " 0.2495922  0.24071862 0.2495922  0.2495922  0.24071862 0.2495922\n",
      " 0.24071862 0.03875671 0.24071862 0.2495922  0.24071862 0.2495922\n",
      " 0.25122339 0.27784415 0.25122339 0.27784415 0.88372987 0.27784415\n",
      " 0.25122339 0.27784415 0.25122339 0.2495922  0.24071862 0.2495922\n",
      " 0.24071862 0.03875671 0.24071862 0.2495922  0.24071862 0.2495922 ]\n",
      "58\n"
     ]
    },
    {
     "name": "stderr",
     "output_type": "stream",
     "text": [
      "WARNING:root:NaN or Inf found in input tensor.\n"
     ]
    },
    {
     "name": "stdout",
     "output_type": "stream",
     "text": [
      "59\n"
     ]
    },
    {
     "name": "stderr",
     "output_type": "stream",
     "text": [
      "WARNING:root:NaN or Inf found in input tensor.\n"
     ]
    },
    {
     "name": "stdout",
     "output_type": "stream",
     "text": [
      "training loss: tensor(0.6064, dtype=torch.float64, grad_fn=<MeanBackward0>)\n",
      "prediction: \n",
      "[0.15839964 0.18907252 0.1505608  0.20879725 0.14363052 0.18379433\n",
      " 0.20490523 0.14623283 0.12901774 0.3096138  0.29059675 0.3323227\n",
      " 0.24084915 0.33678955 0.272391   0.28625345 0.34317622 0.37041518\n",
      " 0.22862864 0.2173062  0.1982324  0.23970838 0.23090857 0.24403481\n",
      " 0.22623175 0.20948634 0.21151501 0.30335793 0.3030245  0.3188841\n",
      " 0.31064522 0.2886714  0.29977977 0.28260955 0.30110452 0.28905207]\n",
      "label: \n",
      "[0.2495922  0.24071862 0.2495922  0.24071862 0.03875671 0.24071862\n",
      " 0.2495922  0.24071862 0.2495922  0.2495922  0.24071862 0.2495922\n",
      " 0.24071862 0.03875671 0.24071862 0.2495922  0.24071862 0.2495922\n",
      " 0.25122339 0.27784415 0.25122339 0.27784415 0.88372987 0.27784415\n",
      " 0.25122339 0.27784415 0.25122339 0.2495922  0.24071862 0.2495922\n",
      " 0.24071862 0.03875671 0.24071862 0.2495922  0.24071862 0.2495922 ]\n",
      "60\n"
     ]
    },
    {
     "name": "stderr",
     "output_type": "stream",
     "text": [
      "WARNING:root:NaN or Inf found in input tensor.\n"
     ]
    },
    {
     "name": "stdout",
     "output_type": "stream",
     "text": [
      "61\n"
     ]
    },
    {
     "name": "stderr",
     "output_type": "stream",
     "text": [
      "WARNING:root:NaN or Inf found in input tensor.\n"
     ]
    },
    {
     "name": "stdout",
     "output_type": "stream",
     "text": [
      "training loss: tensor(0.5930, dtype=torch.float64, grad_fn=<MeanBackward0>)\n",
      "prediction: \n",
      "[0.24261306 0.26450017 0.2332166  0.23336466 0.2614111  0.19048664\n",
      " 0.41037425 0.19447352 0.23143896 0.19702649 0.24317776 0.28179634\n",
      " 0.2241636  0.3670786  0.30809978 0.16349506 0.27103677 0.3384073\n",
      " 0.2619055  0.2886833  0.26393333 0.2520782  0.22730011 0.28620604\n",
      " 0.1529496  0.32947406 0.27549464 0.2984549  0.2036388  0.2210537\n",
      " 0.29039347 0.14421012 0.21520755 0.27318108 0.20501567 0.15465906]\n",
      "label: \n",
      "[0.2495922  0.24071862 0.2495922  0.24071862 0.03875671 0.24071862\n",
      " 0.2495922  0.24071862 0.2495922  0.25122339 0.27784415 0.25122339\n",
      " 0.27784415 0.88372987 0.27784415 0.25122339 0.27784415 0.25122339\n",
      " 0.2495922  0.24071862 0.2495922  0.24071862 0.03875671 0.24071862\n",
      " 0.2495922  0.24071862 0.2495922  0.2495922  0.24071862 0.2495922\n",
      " 0.24071862 0.03875671 0.24071862 0.2495922  0.24071862 0.2495922 ]\n",
      "62\n"
     ]
    },
    {
     "name": "stderr",
     "output_type": "stream",
     "text": [
      "WARNING:root:NaN or Inf found in input tensor.\n"
     ]
    },
    {
     "name": "stdout",
     "output_type": "stream",
     "text": [
      "63\n"
     ]
    },
    {
     "name": "stderr",
     "output_type": "stream",
     "text": [
      "WARNING:root:NaN or Inf found in input tensor.\n"
     ]
    },
    {
     "name": "stdout",
     "output_type": "stream",
     "text": [
      "training loss: tensor(0.7149, dtype=torch.float64, grad_fn=<MeanBackward0>)\n",
      "prediction: \n",
      "[0.31340563 0.4974739  0.37544718 0.55460244 0.35378915 0.8396871\n",
      " 0.15764129 0.73729664 0.76124775 0.31634355 0.30834848 0.46588564\n",
      " 0.20611063 0.34231097 0.14411522 0.37839478 0.17827977 0.19191463\n",
      " 0.17733899 0.0457177  0.1025882  0.1444295  0.13779867 0.00536488\n",
      " 0.41067874 0.05448658 0.03711868 0.19291183 0.1484599  0.05607908\n",
      " 0.09485736 0.16610125 0.01083272 0.05328514 0.029937   0.0097189 ]\n",
      "label: \n",
      "[0.2495922  0.24071862 0.2495922  0.24071862 0.03875671 0.24071862\n",
      " 0.2495922  0.24071862 0.2495922  0.25122339 0.27784415 0.25122339\n",
      " 0.27784415 0.88372987 0.27784415 0.25122339 0.27784415 0.25122339\n",
      " 0.2495922  0.24071862 0.2495922  0.24071862 0.03875671 0.24071862\n",
      " 0.2495922  0.24071862 0.2495922  0.2495922  0.24071862 0.2495922\n",
      " 0.24071862 0.03875671 0.24071862 0.2495922  0.24071862 0.2495922 ]\n",
      "64\n"
     ]
    },
    {
     "name": "stderr",
     "output_type": "stream",
     "text": [
      "WARNING:root:NaN or Inf found in input tensor.\n"
     ]
    },
    {
     "name": "stdout",
     "output_type": "stream",
     "text": [
      "65\n"
     ]
    },
    {
     "name": "stderr",
     "output_type": "stream",
     "text": [
      "WARNING:root:NaN or Inf found in input tensor.\n"
     ]
    },
    {
     "name": "stdout",
     "output_type": "stream",
     "text": [
      "training loss: tensor(0.6147, dtype=torch.float64, grad_fn=<MeanBackward0>)\n",
      "prediction: \n",
      "[0.2667938  0.25916502 0.3239825  0.28817758 0.22773947 0.29140043\n",
      " 0.3996377  0.39379206 0.2942621  0.2877263  0.26647818 0.31475046\n",
      " 0.21171299 0.22555345 0.4320344  0.35576177 0.20720898 0.4007393\n",
      " 0.26708117 0.19913986 0.23514545 0.2421018  0.19844948 0.21057549\n",
      " 0.2900213  0.23809338 0.29417607 0.25848854 0.43858558 0.1499212\n",
      " 0.3065447  0.2252834  0.25337777 0.16289605 0.2104574  0.19130996\n",
      " 0.233256   0.26473108 0.22905377 0.28197533 0.1697214  0.32190534\n",
      " 0.16929528 0.20617616 0.21086943 0.27982563 0.14559457 0.21319811\n",
      " 0.23611099 0.19142234 0.08289643 0.18055992 0.3648024  0.15263507\n",
      " 0.23286903 0.27696407 0.21181831 0.18774532 0.40408966 0.17611866\n",
      " 0.14104566 0.16193832 0.20069237 0.1739595  0.14934163 0.32213023\n",
      " 0.24563137 0.35774085 0.2316914  0.3007822  0.2175313  0.25531566]\n",
      "label: \n",
      "[0.2495922  0.24071862 0.2495922  0.24071862 0.03875671 0.24071862\n",
      " 0.2495922  0.24071862 0.2495922  0.2495922  0.24071862 0.2495922\n",
      " 0.24071862 0.03875671 0.24071862 0.2495922  0.24071862 0.2495922\n",
      " 0.2495922  0.24071862 0.2495922  0.24071862 0.03875671 0.24071862\n",
      " 0.2495922  0.24071862 0.2495922  0.2495922  0.24071862 0.2495922\n",
      " 0.24071862 0.03875671 0.24071862 0.2495922  0.24071862 0.2495922\n",
      " 0.25122339 0.27784415 0.25122339 0.27784415 0.88372987 0.27784415\n",
      " 0.25122339 0.27784415 0.25122339 0.25122339 0.27784415 0.25122339\n",
      " 0.27784415 0.88372987 0.27784415 0.25122339 0.27784415 0.25122339\n",
      " 0.2495922  0.24071862 0.2495922  0.24071862 0.03875671 0.24071862\n",
      " 0.2495922  0.24071862 0.2495922  0.2495922  0.24071862 0.2495922\n",
      " 0.24071862 0.03875671 0.24071862 0.2495922  0.24071862 0.2495922 ]\n",
      "66\n"
     ]
    },
    {
     "name": "stderr",
     "output_type": "stream",
     "text": [
      "WARNING:root:NaN or Inf found in input tensor.\n"
     ]
    },
    {
     "name": "stdout",
     "output_type": "stream",
     "text": [
      "67\n"
     ]
    },
    {
     "name": "stderr",
     "output_type": "stream",
     "text": [
      "WARNING:root:NaN or Inf found in input tensor.\n"
     ]
    },
    {
     "name": "stdout",
     "output_type": "stream",
     "text": [
      "training loss: tensor(0.6886, dtype=torch.float64, grad_fn=<MeanBackward0>)\n",
      "prediction: \n",
      "[0.1532868  0.622842   0.46797723 0.20739265 0.5564793  0.6024348\n",
      " 0.1515407  0.529414   0.61775273 0.4777566  0.25056365 0.2831002\n",
      " 0.2771007  0.12582739 0.10494401 0.48828697 0.22012083 0.26424924\n",
      " 0.29292485 0.10715912 0.13673368 0.46719024 0.30149576 0.24634705\n",
      " 0.27917707 0.19050892 0.06789346 0.07603185 0.01943526 0.11218894\n",
      " 0.04831646 0.01619765 0.04627411 0.08099533 0.05995624 0.05010457]\n",
      "label: \n",
      "[0.2495922  0.24071862 0.2495922  0.24071862 0.03875671 0.24071862\n",
      " 0.2495922  0.24071862 0.2495922  0.25122339 0.27784415 0.25122339\n",
      " 0.27784415 0.88372987 0.27784415 0.25122339 0.27784415 0.25122339\n",
      " 0.2495922  0.24071862 0.2495922  0.24071862 0.03875671 0.24071862\n",
      " 0.2495922  0.24071862 0.2495922  0.2495922  0.24071862 0.2495922\n",
      " 0.24071862 0.03875671 0.24071862 0.2495922  0.24071862 0.2495922 ]\n",
      "68\n"
     ]
    },
    {
     "name": "stderr",
     "output_type": "stream",
     "text": [
      "WARNING:root:NaN or Inf found in input tensor.\n"
     ]
    },
    {
     "name": "stdout",
     "output_type": "stream",
     "text": [
      "69\n"
     ]
    },
    {
     "name": "stderr",
     "output_type": "stream",
     "text": [
      "WARNING:root:NaN or Inf found in input tensor.\n"
     ]
    },
    {
     "name": "stdout",
     "output_type": "stream",
     "text": [
      "training loss: tensor(0.6048, dtype=torch.float64, grad_fn=<MeanBackward0>)\n",
      "prediction: \n",
      "[0.30802903 0.24078155 0.23635432 0.29227796 0.3054735  0.24163903\n",
      " 0.19699125 0.2766187  0.22725768 0.2709515  0.35091797 0.23363689\n",
      " 0.30159345 0.19985114 0.2777091  0.19365521 0.273349   0.3516694\n",
      " 0.17516653 0.16224387 0.29034978 0.1997051  0.21626563 0.28876144\n",
      " 0.34694216 0.25562847 0.20180276 0.24585286 0.24605669 0.23965909\n",
      " 0.20642345 0.27840972 0.19189043 0.26241145 0.19440384 0.21927021]\n",
      "label: \n",
      "[0.2495922  0.24071862 0.2495922  0.24071862 0.03875671 0.24071862\n",
      " 0.2495922  0.24071862 0.2495922  0.2495922  0.24071862 0.2495922\n",
      " 0.24071862 0.03875671 0.24071862 0.2495922  0.24071862 0.2495922\n",
      " 0.25122339 0.27784415 0.25122339 0.27784415 0.88372987 0.27784415\n",
      " 0.25122339 0.27784415 0.25122339 0.2495922  0.24071862 0.2495922\n",
      " 0.24071862 0.03875671 0.24071862 0.2495922  0.24071862 0.2495922 ]\n",
      "70\n"
     ]
    },
    {
     "name": "stderr",
     "output_type": "stream",
     "text": [
      "WARNING:root:NaN or Inf found in input tensor.\n"
     ]
    },
    {
     "name": "stdout",
     "output_type": "stream",
     "text": [
      "71\n"
     ]
    },
    {
     "name": "stderr",
     "output_type": "stream",
     "text": [
      "WARNING:root:NaN or Inf found in input tensor.\n"
     ]
    },
    {
     "name": "stdout",
     "output_type": "stream",
     "text": [
      "training loss: tensor(0.6013, dtype=torch.float64, grad_fn=<MeanBackward0>)\n",
      "prediction: \n",
      "[0.2741603  0.28647086 0.26750654 0.2648165  0.26852944 0.25868046\n",
      " 0.2693134  0.2690938  0.26481554 0.32344738 0.15251504 0.18559226\n",
      " 0.30620748 0.16650613 0.3423538  0.24452363 0.14529556 0.23455314\n",
      " 0.23029377 0.2374839  0.2505959  0.2570823  0.23305498 0.2624028\n",
      " 0.2523242  0.2460443  0.23827331 0.26875505 0.26632226 0.3132452\n",
      " 0.34418282 0.2757957  0.31038013 0.31447583 0.26452968 0.28833687\n",
      " 0.23189057 0.2237486  0.21271887 0.22011994 0.2123034  0.21943699\n",
      " 0.2308009  0.2158566  0.2304431  0.31069618 0.30376923 0.41099048\n",
      " 0.22295834 0.42758098 0.2178564  0.3187526  0.29945406 0.3652865\n",
      " 0.2636554  0.2522966  0.26917872 0.2579813  0.28611216 0.2594798\n",
      " 0.24756153 0.26900527 0.26646802 0.09710146 0.2773935  0.09017208\n",
      " 0.12665144 0.1301172  0.12940967 0.12224793 0.29072067 0.11182345]\n",
      "label: \n",
      "[0.2495922  0.24071862 0.2495922  0.24071862 0.03875671 0.24071862\n",
      " 0.2495922  0.24071862 0.2495922  0.2495922  0.24071862 0.2495922\n",
      " 0.24071862 0.03875671 0.24071862 0.2495922  0.24071862 0.2495922\n",
      " 0.2495922  0.24071862 0.2495922  0.24071862 0.03875671 0.24071862\n",
      " 0.2495922  0.24071862 0.2495922  0.2495922  0.24071862 0.2495922\n",
      " 0.24071862 0.03875671 0.24071862 0.2495922  0.24071862 0.2495922\n",
      " 0.25122339 0.27784415 0.25122339 0.27784415 0.88372987 0.27784415\n",
      " 0.25122339 0.27784415 0.25122339 0.25122339 0.27784415 0.25122339\n",
      " 0.27784415 0.88372987 0.27784415 0.25122339 0.27784415 0.25122339\n",
      " 0.2495922  0.24071862 0.2495922  0.24071862 0.03875671 0.24071862\n",
      " 0.2495922  0.24071862 0.2495922  0.2495922  0.24071862 0.2495922\n",
      " 0.24071862 0.03875671 0.24071862 0.2495922  0.24071862 0.2495922 ]\n",
      "72\n"
     ]
    },
    {
     "name": "stderr",
     "output_type": "stream",
     "text": [
      "WARNING:root:NaN or Inf found in input tensor.\n"
     ]
    },
    {
     "name": "stdout",
     "output_type": "stream",
     "text": [
      "73\n"
     ]
    },
    {
     "name": "stderr",
     "output_type": "stream",
     "text": [
      "WARNING:root:NaN or Inf found in input tensor.\n"
     ]
    },
    {
     "name": "stdout",
     "output_type": "stream",
     "text": [
      "training loss: tensor(0.8852, dtype=torch.float64, grad_fn=<MeanBackward0>)\n",
      "prediction: \n",
      "[5.5757648e-01 2.8976694e-01 7.1021390e-01 9.2037219e-01 6.9885939e-02\n",
      " 4.7647551e-01 5.5742508e-01 9.8903134e-02 1.8403129e-01 1.3515778e-01\n",
      " 3.9096564e-01 2.3057130e-01 7.2652817e-02 9.2054933e-01 5.1448411e-01\n",
      " 3.5324302e-01 4.9344596e-01 5.0654501e-01 3.0722746e-01 3.1492060e-01\n",
      " 5.7821121e-02 6.0418444e-03 8.1676440e-03 6.8047089e-03 8.8373706e-02\n",
      " 3.7918341e-01 3.0806324e-01 3.8367616e-05 4.3468620e-03 1.3936268e-03\n",
      " 9.3310478e-04 1.3970654e-03 2.2356540e-03 9.5819618e-04 2.8467454e-02\n",
      " 1.3604492e-03]\n",
      "label: \n",
      "[0.2495922  0.24071862 0.2495922  0.24071862 0.03875671 0.24071862\n",
      " 0.2495922  0.24071862 0.2495922  0.25122339 0.27784415 0.25122339\n",
      " 0.27784415 0.88372987 0.27784415 0.25122339 0.27784415 0.25122339\n",
      " 0.2495922  0.24071862 0.2495922  0.24071862 0.03875671 0.24071862\n",
      " 0.2495922  0.24071862 0.2495922  0.2495922  0.24071862 0.2495922\n",
      " 0.24071862 0.03875671 0.24071862 0.2495922  0.24071862 0.2495922 ]\n",
      "74\n"
     ]
    },
    {
     "name": "stderr",
     "output_type": "stream",
     "text": [
      "WARNING:root:NaN or Inf found in input tensor.\n"
     ]
    },
    {
     "name": "stdout",
     "output_type": "stream",
     "text": [
      "75\n"
     ]
    },
    {
     "name": "stderr",
     "output_type": "stream",
     "text": [
      "WARNING:root:NaN or Inf found in input tensor.\n"
     ]
    },
    {
     "name": "stdout",
     "output_type": "stream",
     "text": [
      "76\n",
      "training loss: tensor(0.5974, dtype=torch.float64, grad_fn=<MeanBackward0>)\n",
      "prediction: \n",
      "[0.20809515 0.17725533 0.27373442 0.22258215 0.2432975  0.19851144\n",
      " 0.18726586 0.30926156 0.2852196  0.39162    0.2559002  0.3070141\n",
      " 0.2700823  0.30029136 0.31589565 0.29454246 0.20318739 0.23026091\n",
      " 0.19252424 0.31369588 0.15423147 0.21975712 0.18965293 0.17038544\n",
      " 0.19309859 0.26974547 0.27007434 0.20776053 0.25314862 0.26501995\n",
      " 0.28757843 0.26675826 0.31520748 0.32509312 0.21780556 0.21444514]\n",
      "label: \n",
      "[0.2495922  0.24071862 0.2495922  0.24071862 0.03875671 0.24071862\n",
      " 0.2495922  0.24071862 0.2495922  0.25122339 0.27784415 0.25122339\n",
      " 0.27784415 0.88372987 0.27784415 0.25122339 0.27784415 0.25122339\n",
      " 0.2495922  0.24071862 0.2495922  0.24071862 0.03875671 0.24071862\n",
      " 0.2495922  0.24071862 0.2495922  0.2495922  0.24071862 0.2495922\n",
      " 0.24071862 0.03875671 0.24071862 0.2495922  0.24071862 0.2495922 ]\n"
     ]
    },
    {
     "name": "stderr",
     "output_type": "stream",
     "text": [
      "WARNING:root:NaN or Inf found in input tensor.\n"
     ]
    },
    {
     "name": "stdout",
     "output_type": "stream",
     "text": [
      "77\n"
     ]
    },
    {
     "name": "stderr",
     "output_type": "stream",
     "text": [
      "WARNING:root:NaN or Inf found in input tensor.\n"
     ]
    },
    {
     "name": "stdout",
     "output_type": "stream",
     "text": [
      "78\n",
      "training loss: tensor(0.5999, dtype=torch.float64, grad_fn=<MeanBackward0>)\n",
      "prediction: \n",
      "[0.25128704 0.25137416 0.23738085 0.24958421 0.34714234 0.26101846\n",
      " 0.2321691  0.21805981 0.23172612 0.25161338 0.26726022 0.23274495\n",
      " 0.25481686 0.2232336  0.25987247 0.26504904 0.24331877 0.25122696\n",
      " 0.22166638 0.22584541 0.26009724 0.23033775 0.21282797 0.22426553\n",
      " 0.22502942 0.29467875 0.23287868 0.27543318 0.25552016 0.26977697\n",
      " 0.26526117 0.216796   0.2548436  0.2777524  0.24394262 0.28416824]\n",
      "label: \n",
      "[0.2495922  0.24071862 0.2495922  0.24071862 0.03875671 0.24071862\n",
      " 0.2495922  0.24071862 0.2495922  0.25122339 0.27784415 0.25122339\n",
      " 0.27784415 0.88372987 0.27784415 0.25122339 0.27784415 0.25122339\n",
      " 0.2495922  0.24071862 0.2495922  0.24071862 0.03875671 0.24071862\n",
      " 0.2495922  0.24071862 0.2495922  0.2495922  0.24071862 0.2495922\n",
      " 0.24071862 0.03875671 0.24071862 0.2495922  0.24071862 0.2495922 ]\n"
     ]
    },
    {
     "name": "stderr",
     "output_type": "stream",
     "text": [
      "WARNING:root:NaN or Inf found in input tensor.\n"
     ]
    },
    {
     "name": "stdout",
     "output_type": "stream",
     "text": [
      "79\n"
     ]
    },
    {
     "name": "stderr",
     "output_type": "stream",
     "text": [
      "WARNING:root:NaN or Inf found in input tensor.\n"
     ]
    },
    {
     "name": "stdout",
     "output_type": "stream",
     "text": [
      "80\n",
      "training loss: tensor(0.8852, dtype=torch.float64, grad_fn=<MeanBackward0>)\n",
      "prediction: \n",
      "[5.5757648e-01 2.8976694e-01 7.1021390e-01 9.2037219e-01 6.9885939e-02\n",
      " 4.7647551e-01 5.5742508e-01 9.8903134e-02 1.8403129e-01 1.3515778e-01\n",
      " 3.9096564e-01 2.3057130e-01 7.2652817e-02 9.2054933e-01 5.1448411e-01\n",
      " 3.5324302e-01 4.9344596e-01 5.0654501e-01 3.0722746e-01 3.1492060e-01\n",
      " 5.7821121e-02 6.0418444e-03 8.1676440e-03 6.8047089e-03 8.8373706e-02\n",
      " 3.7918341e-01 3.0806324e-01 3.8367616e-05 4.3468620e-03 1.3936268e-03\n",
      " 9.3310478e-04 1.3970654e-03 2.2356540e-03 9.5819618e-04 2.8467454e-02\n",
      " 1.3604492e-03]\n",
      "label: \n",
      "[0.2495922  0.24071862 0.2495922  0.24071862 0.03875671 0.24071862\n",
      " 0.2495922  0.24071862 0.2495922  0.25122339 0.27784415 0.25122339\n",
      " 0.27784415 0.88372987 0.27784415 0.25122339 0.27784415 0.25122339\n",
      " 0.2495922  0.24071862 0.2495922  0.24071862 0.03875671 0.24071862\n",
      " 0.2495922  0.24071862 0.2495922  0.2495922  0.24071862 0.2495922\n",
      " 0.24071862 0.03875671 0.24071862 0.2495922  0.24071862 0.2495922 ]\n"
     ]
    },
    {
     "name": "stderr",
     "output_type": "stream",
     "text": [
      "WARNING:root:NaN or Inf found in input tensor.\n"
     ]
    },
    {
     "name": "stdout",
     "output_type": "stream",
     "text": [
      "81\n"
     ]
    },
    {
     "name": "stderr",
     "output_type": "stream",
     "text": [
      "WARNING:root:NaN or Inf found in input tensor.\n"
     ]
    },
    {
     "name": "stdout",
     "output_type": "stream",
     "text": [
      "82\n",
      "training loss: tensor(1.1090, dtype=torch.float64, grad_fn=<MeanBackward0>)\n",
      "prediction: \n",
      "[2.3441021e-01 3.6263806e-03 2.9362146e-02 4.2487115e-01 4.5430124e-02\n",
      " 1.4594369e-04 2.9857501e-01 3.5072781e-02 1.7331110e-02 5.2263087e-01\n",
      " 9.9320507e-01 9.7049695e-01 1.8322222e-01 8.7592679e-01 9.9611878e-01\n",
      " 2.1965660e-01 8.4814161e-01 5.9646547e-01 1.1703511e-03 7.6365506e-04\n",
      " 1.1990984e-04 3.7691534e-01 7.8459725e-02 2.5127985e-04 2.3851331e-01\n",
      " 3.0206944e-04 3.0722514e-01 2.4178849e-01 2.4049291e-03 2.1024520e-05\n",
      " 1.4991240e-02 1.8334722e-04 3.4839923e-03 2.4325502e-01 1.1648356e-01\n",
      " 7.8978322e-02]\n",
      "label: \n",
      "[0.25122339 0.27784415 0.25122339 0.27784415 0.88372987 0.27784415\n",
      " 0.25122339 0.27784415 0.25122339 0.2495922  0.24071862 0.2495922\n",
      " 0.24071862 0.03875671 0.24071862 0.2495922  0.24071862 0.2495922\n",
      " 0.2495922  0.24071862 0.2495922  0.24071862 0.03875671 0.24071862\n",
      " 0.2495922  0.24071862 0.2495922  0.2495922  0.24071862 0.2495922\n",
      " 0.24071862 0.03875671 0.24071862 0.2495922  0.24071862 0.2495922 ]\n"
     ]
    },
    {
     "name": "stderr",
     "output_type": "stream",
     "text": [
      "WARNING:root:NaN or Inf found in input tensor.\n"
     ]
    },
    {
     "name": "stdout",
     "output_type": "stream",
     "text": [
      "83\n"
     ]
    },
    {
     "name": "stderr",
     "output_type": "stream",
     "text": [
      "WARNING:root:NaN or Inf found in input tensor.\n"
     ]
    },
    {
     "name": "stdout",
     "output_type": "stream",
     "text": [
      "84\n",
      "training loss: tensor(0.6029, dtype=torch.float64, grad_fn=<MeanBackward0>)\n",
      "prediction: \n",
      "[0.29035145 0.23145983 0.2502727  0.19434655 0.25819162 0.22714458\n",
      " 0.18539347 0.2826719  0.23462828 0.28714815 0.3132538  0.26935583\n",
      " 0.27944946 0.20964749 0.23254769 0.27987307 0.29847416 0.21735026\n",
      " 0.1921556  0.20754863 0.19197206 0.16681987 0.24827403 0.20580696\n",
      " 0.17741258 0.15645711 0.27372763 0.23034476 0.24773769 0.28839946\n",
      " 0.35938412 0.2838869  0.3345008  0.35732085 0.26239678 0.27429384]\n",
      "label: \n",
      "[0.2495922  0.24071862 0.2495922  0.24071862 0.03875671 0.24071862\n",
      " 0.2495922  0.24071862 0.2495922  0.2495922  0.24071862 0.2495922\n",
      " 0.24071862 0.03875671 0.24071862 0.2495922  0.24071862 0.2495922\n",
      " 0.25122339 0.27784415 0.25122339 0.27784415 0.88372987 0.27784415\n",
      " 0.25122339 0.27784415 0.25122339 0.2495922  0.24071862 0.2495922\n",
      " 0.24071862 0.03875671 0.24071862 0.2495922  0.24071862 0.2495922 ]\n"
     ]
    },
    {
     "name": "stderr",
     "output_type": "stream",
     "text": [
      "WARNING:root:NaN or Inf found in input tensor.\n"
     ]
    },
    {
     "name": "stdout",
     "output_type": "stream",
     "text": [
      "85\n"
     ]
    },
    {
     "name": "stderr",
     "output_type": "stream",
     "text": [
      "WARNING:root:NaN or Inf found in input tensor.\n"
     ]
    },
    {
     "name": "stdout",
     "output_type": "stream",
     "text": [
      "86\n"
     ]
    },
    {
     "name": "stderr",
     "output_type": "stream",
     "text": [
      "WARNING:root:NaN or Inf found in input tensor.\n"
     ]
    },
    {
     "name": "stdout",
     "output_type": "stream",
     "text": [
      "training loss: tensor(0.6095, dtype=torch.float64, grad_fn=<MeanBackward0>)\n",
      "prediction: \n",
      "[0.39528176 0.30409664 0.2917194  0.3698804  0.36868083 0.29779068\n",
      " 0.34883863 0.33896428 0.2756625  0.25314093 0.3125767  0.27750018\n",
      " 0.22063406 0.24809517 0.2699029  0.26907116 0.2803226  0.28054884\n",
      " 0.15930891 0.15215252 0.17862393 0.18895333 0.20414115 0.19104165\n",
      " 0.17962427 0.17266427 0.2149133  0.19226845 0.23117408 0.25215647\n",
      " 0.2205322  0.17908296 0.24126479 0.20246601 0.20804887 0.22887537]\n",
      "label: \n",
      "[0.2495922  0.24071862 0.2495922  0.24071862 0.03875671 0.24071862\n",
      " 0.2495922  0.24071862 0.2495922  0.2495922  0.24071862 0.2495922\n",
      " 0.24071862 0.03875671 0.24071862 0.2495922  0.24071862 0.2495922\n",
      " 0.25122339 0.27784415 0.25122339 0.27784415 0.88372987 0.27784415\n",
      " 0.25122339 0.27784415 0.25122339 0.2495922  0.24071862 0.2495922\n",
      " 0.24071862 0.03875671 0.24071862 0.2495922  0.24071862 0.2495922 ]\n",
      "87\n"
     ]
    },
    {
     "name": "stderr",
     "output_type": "stream",
     "text": [
      "WARNING:root:NaN or Inf found in input tensor.\n"
     ]
    },
    {
     "name": "stdout",
     "output_type": "stream",
     "text": [
      "88\n",
      "training loss: tensor(0.7141, dtype=torch.float64, grad_fn=<MeanBackward0>)\n",
      "prediction: \n",
      "[0.7851793  0.10367611 0.47029576 0.4969925  0.09802739 0.04854698\n",
      " 0.66117114 0.13283175 0.48065954 0.04550335 0.37924555 0.23882043\n",
      " 0.31030837 0.31399924 0.60438067 0.08802209 0.0324454  0.29776597\n",
      " 0.02676995 0.18455808 0.1805074  0.00876575 0.10798676 0.1015918\n",
      " 0.16402964 0.63861054 0.02245547 0.14254732 0.3325203  0.11037638\n",
      " 0.18393336 0.47998667 0.24548061 0.08677719 0.1961123  0.199119  ]\n",
      "label: \n",
      "[0.25104396 0.27376034 0.25104396 0.27376034 0.79078282 0.27376034\n",
      " 0.25104396 0.27376034 0.25104396 0.2495922  0.24071862 0.2495922\n",
      " 0.24071862 0.03875671 0.24071862 0.2495922  0.24071862 0.2495922\n",
      " 0.2495922  0.24071862 0.2495922  0.24071862 0.03875671 0.24071862\n",
      " 0.2495922  0.24071862 0.2495922  0.24977163 0.24480243 0.24977163\n",
      " 0.24480243 0.13170376 0.24480243 0.24977163 0.24480243 0.24977163]\n"
     ]
    },
    {
     "name": "stderr",
     "output_type": "stream",
     "text": [
      "WARNING:root:NaN or Inf found in input tensor.\n"
     ]
    },
    {
     "name": "stdout",
     "output_type": "stream",
     "text": [
      "89\n"
     ]
    },
    {
     "name": "stderr",
     "output_type": "stream",
     "text": [
      "WARNING:root:NaN or Inf found in input tensor.\n"
     ]
    },
    {
     "name": "stdout",
     "output_type": "stream",
     "text": [
      "90\n"
     ]
    },
    {
     "name": "stderr",
     "output_type": "stream",
     "text": [
      "WARNING:root:NaN or Inf found in input tensor.\n"
     ]
    },
    {
     "name": "stdout",
     "output_type": "stream",
     "text": [
      "training loss: tensor(0.6095, dtype=torch.float64, grad_fn=<MeanBackward0>)\n",
      "prediction: \n",
      "[0.39528176 0.30409664 0.2917194  0.3698804  0.36868083 0.29779068\n",
      " 0.34883863 0.33896428 0.2756625  0.25314093 0.3125767  0.27750018\n",
      " 0.22063406 0.24809517 0.2699029  0.26907116 0.2803226  0.28054884\n",
      " 0.15930891 0.15215252 0.17862393 0.18895333 0.20414115 0.19104165\n",
      " 0.17962427 0.17266427 0.2149133  0.19226845 0.23117408 0.25215647\n",
      " 0.2205322  0.17908296 0.24126479 0.20246601 0.20804887 0.22887537]\n",
      "label: \n",
      "[0.2495922  0.24071862 0.2495922  0.24071862 0.03875671 0.24071862\n",
      " 0.2495922  0.24071862 0.2495922  0.2495922  0.24071862 0.2495922\n",
      " 0.24071862 0.03875671 0.24071862 0.2495922  0.24071862 0.2495922\n",
      " 0.25122339 0.27784415 0.25122339 0.27784415 0.88372987 0.27784415\n",
      " 0.25122339 0.27784415 0.25122339 0.2495922  0.24071862 0.2495922\n",
      " 0.24071862 0.03875671 0.24071862 0.2495922  0.24071862 0.2495922 ]\n",
      "91\n"
     ]
    },
    {
     "name": "stderr",
     "output_type": "stream",
     "text": [
      "WARNING:root:NaN or Inf found in input tensor.\n"
     ]
    },
    {
     "name": "stdout",
     "output_type": "stream",
     "text": [
      "92\n"
     ]
    },
    {
     "name": "stderr",
     "output_type": "stream",
     "text": [
      "WARNING:root:NaN or Inf found in input tensor.\n"
     ]
    },
    {
     "name": "stdout",
     "output_type": "stream",
     "text": [
      "training loss: tensor(0.6361, dtype=torch.float64, grad_fn=<MeanBackward0>)\n",
      "prediction: \n",
      "[0.18200219 0.22607914 0.18859917 0.11069814 0.10933634 0.1264434\n",
      " 0.20789112 0.19082761 0.177696   0.17567945 0.14959182 0.37174624\n",
      " 0.15177953 0.35504872 0.56637657 0.28111127 0.26509517 0.3723952\n",
      " 0.26286787 0.34616345 0.35582164 0.14684938 0.15859255 0.17512038\n",
      " 0.18919471 0.2681484  0.17212635 0.23213504 0.42517102 0.33927885\n",
      " 0.30563605 0.17086543 0.24056    0.2599987  0.28546265 0.3287844\n",
      " 0.19876012 0.1875726  0.20549667 0.4010936  0.29758835 0.28991872\n",
      " 0.30937693 0.30226812 0.2779422  0.4910413  0.3762763  0.25177702\n",
      " 0.34256443 0.40740424 0.14321367 0.22718415 0.3731131  0.17521648\n",
      " 0.35636976 0.24018477 0.25008255 0.34135884 0.4344827  0.4085175\n",
      " 0.29353723 0.23875582 0.37223545 0.10114413 0.04896088 0.03719787\n",
      " 0.20001988 0.06668159 0.0498498  0.23170583 0.07632907 0.1236039 ]\n",
      "label: \n",
      "[0.25114183 0.27598787 0.25114183 0.27598787 0.84148121 0.27598787\n",
      " 0.25114183 0.27598787 0.25114183 0.2495922  0.24071862 0.2495922\n",
      " 0.24071862 0.03875671 0.24071862 0.2495922  0.24071862 0.2495922\n",
      " 0.2495922  0.24071862 0.2495922  0.24071862 0.03875671 0.24071862\n",
      " 0.2495922  0.24071862 0.2495922  0.25122339 0.27784415 0.25122339\n",
      " 0.27784415 0.88372987 0.27784415 0.25122339 0.27784415 0.25122339\n",
      " 0.2495922  0.24071862 0.2495922  0.24071862 0.03875671 0.24071862\n",
      " 0.2495922  0.24071862 0.2495922  0.2495922  0.24071862 0.2495922\n",
      " 0.24071862 0.03875671 0.24071862 0.2495922  0.24071862 0.2495922\n",
      " 0.24967376 0.24257489 0.24967376 0.24257489 0.08100537 0.24257489\n",
      " 0.24967376 0.24257489 0.24967376 0.2495922  0.24071862 0.2495922\n",
      " 0.24071862 0.03875671 0.24071862 0.2495922  0.24071862 0.2495922 ]\n",
      "93\n"
     ]
    },
    {
     "name": "stderr",
     "output_type": "stream",
     "text": [
      "WARNING:root:NaN or Inf found in input tensor.\n"
     ]
    },
    {
     "name": "stdout",
     "output_type": "stream",
     "text": [
      "94\n"
     ]
    },
    {
     "name": "stderr",
     "output_type": "stream",
     "text": [
      "WARNING:root:NaN or Inf found in input tensor.\n"
     ]
    },
    {
     "name": "stdout",
     "output_type": "stream",
     "text": [
      "training loss: tensor(0.6003, dtype=torch.float64, grad_fn=<MeanBackward0>)\n",
      "prediction: \n",
      "[0.24015285 0.28496674 0.22980489 0.26252156 0.24957594 0.22837187\n",
      " 0.27533513 0.2599957  0.24426644 0.26535508 0.24125165 0.23123144\n",
      " 0.26182535 0.26148045 0.29266682 0.21286795 0.2670623  0.2399134\n",
      " 0.22385918 0.21973456 0.26110214 0.21729663 0.22910932 0.1991156\n",
      " 0.25294885 0.20849048 0.25340143 0.27063292 0.254047   0.27786154\n",
      " 0.25835642 0.25983435 0.27984565 0.2588481  0.26445144 0.26241875]\n",
      "label: \n",
      "[0.2495922  0.24071862 0.2495922  0.24071862 0.03875671 0.24071862\n",
      " 0.2495922  0.24071862 0.2495922  0.2495922  0.24071862 0.2495922\n",
      " 0.24071862 0.03875671 0.24071862 0.2495922  0.24071862 0.2495922\n",
      " 0.25122339 0.27784415 0.25122339 0.27784415 0.88372987 0.27784415\n",
      " 0.25122339 0.27784415 0.25122339 0.2495922  0.24071862 0.2495922\n",
      " 0.24071862 0.03875671 0.24071862 0.2495922  0.24071862 0.2495922 ]\n",
      "95\n"
     ]
    },
    {
     "name": "stderr",
     "output_type": "stream",
     "text": [
      "WARNING:root:NaN or Inf found in input tensor.\n"
     ]
    },
    {
     "name": "stdout",
     "output_type": "stream",
     "text": [
      "96\n"
     ]
    },
    {
     "name": "stderr",
     "output_type": "stream",
     "text": [
      "WARNING:root:NaN or Inf found in input tensor.\n"
     ]
    },
    {
     "name": "stdout",
     "output_type": "stream",
     "text": [
      "training loss: tensor(0.6089, dtype=torch.float64, grad_fn=<MeanBackward0>)\n",
      "prediction: \n",
      "[0.4463287  0.33909822 0.31883693 0.3840462  0.26016873 0.41578192\n",
      " 0.36660016 0.2890388  0.28321722 0.19360217 0.24043855 0.1755523\n",
      " 0.21500866 0.3020138  0.29885107 0.23655793 0.35963622 0.29320446\n",
      " 0.23440152 0.23351705 0.27358732 0.2230225  0.25608364 0.1579124\n",
      " 0.24850884 0.22632444 0.22373417 0.12566759 0.18694612 0.23202349\n",
      " 0.17792265 0.18173388 0.12745455 0.1483331  0.12500057 0.1998442 ]\n",
      "label: \n",
      "[0.2495922  0.24071862 0.2495922  0.24071862 0.03875671 0.24071862\n",
      " 0.2495922  0.24071862 0.2495922  0.2495922  0.24071862 0.2495922\n",
      " 0.24071862 0.03875671 0.24071862 0.2495922  0.24071862 0.2495922\n",
      " 0.25122339 0.27784415 0.25122339 0.27784415 0.88372987 0.27784415\n",
      " 0.25122339 0.27784415 0.25122339 0.2495922  0.24071862 0.2495922\n",
      " 0.24071862 0.03875671 0.24071862 0.2495922  0.24071862 0.2495922 ]\n",
      "97\n"
     ]
    },
    {
     "name": "stderr",
     "output_type": "stream",
     "text": [
      "WARNING:root:NaN or Inf found in input tensor.\n"
     ]
    },
    {
     "name": "stdout",
     "output_type": "stream",
     "text": [
      "98\n"
     ]
    },
    {
     "name": "stderr",
     "output_type": "stream",
     "text": [
      "WARNING:root:NaN or Inf found in input tensor.\n"
     ]
    },
    {
     "name": "stdout",
     "output_type": "stream",
     "text": [
      "training loss: tensor(0.6036, dtype=torch.float64, grad_fn=<MeanBackward0>)\n",
      "prediction: \n",
      "[0.24327268 0.27953646 0.21838345 0.27326742 0.17760102 0.26159936\n",
      " 0.27169093 0.19821845 0.27847812 0.30827978 0.3530945  0.35472396\n",
      " 0.23202765 0.31331515 0.21657786 0.18308899 0.27863446 0.23860985\n",
      " 0.27529028 0.15184762 0.33806214 0.33098438 0.29997975 0.21503286\n",
      " 0.31435117 0.2915699  0.21706636 0.22706349 0.17686255 0.25643662\n",
      " 0.2736541  0.23276718 0.1738861  0.45189843 0.16479069 0.35092857\n",
      " 0.23454466 0.22373278 0.2181102  0.20459163 0.25479952 0.2909142\n",
      " 0.18070163 0.1610233  0.24427159 0.27416322 0.11171406 0.18954839\n",
      " 0.2535418  0.26099217 0.30445608 0.17414157 0.2171952  0.17579702\n",
      " 0.24689232 0.3448831  0.22544438 0.19115658 0.26761967 0.23245358\n",
      " 0.23325622 0.3491884  0.26018384 0.19049345 0.35832894 0.1992911\n",
      " 0.2407764  0.19292547 0.30507994 0.19087093 0.3393797  0.23466456]\n",
      "label: \n",
      "[0.2495922  0.24071862 0.2495922  0.24071862 0.03875671 0.24071862\n",
      " 0.2495922  0.24071862 0.2495922  0.2495922  0.24071862 0.2495922\n",
      " 0.24071862 0.03875671 0.24071862 0.2495922  0.24071862 0.2495922\n",
      " 0.2495922  0.24071862 0.2495922  0.24071862 0.03875671 0.24071862\n",
      " 0.2495922  0.24071862 0.2495922  0.2495922  0.24071862 0.2495922\n",
      " 0.24071862 0.03875671 0.24071862 0.2495922  0.24071862 0.2495922\n",
      " 0.25122339 0.27784415 0.25122339 0.27784415 0.88372987 0.27784415\n",
      " 0.25122339 0.27784415 0.25122339 0.25122339 0.27784415 0.25122339\n",
      " 0.27784415 0.88372987 0.27784415 0.25122339 0.27784415 0.25122339\n",
      " 0.2495922  0.24071862 0.2495922  0.24071862 0.03875671 0.24071862\n",
      " 0.2495922  0.24071862 0.2495922  0.2495922  0.24071862 0.2495922\n",
      " 0.24071862 0.03875671 0.24071862 0.2495922  0.24071862 0.2495922 ]\n",
      "99\n"
     ]
    },
    {
     "name": "stderr",
     "output_type": "stream",
     "text": [
      "WARNING:root:NaN or Inf found in input tensor.\n"
     ]
    }
   ],
   "source": [
    "def main(config):\n",
    "    \"\"\"The main function.\"\"\"\n",
    "\n",
    "    if config.mode == \"train\":\n",
    "        train(config)\n",
    "    elif config.mode == \"test\":\n",
    "        test(config)\n",
    "    else:\n",
    "        raise ValueError(\"Unknown run mode \\\"{}\\\"\".format(config.mode))\n",
    "\n",
    "\n",
    "if __name__ == \"__main__\":\n",
    "\n",
    "    # ----------------------------------------\n",
    "    # Parse configuration\n",
    "    config, unparsed = get_config()\n",
    "    # If we have unparsed arguments, print usage and exit\n",
    "    if len(unparsed) > 0:\n",
    "        print_usage()\n",
    "        exit(1)\n",
    "\n",
    "    main(config)"
   ]
  },
  {
   "cell_type": "code",
   "execution_count": null,
   "metadata": {},
   "outputs": [],
   "source": []
  }
 ],
 "metadata": {
  "kernelspec": {
   "display_name": "Python 3",
   "language": "python",
   "name": "python3"
  },
  "language_info": {
   "codemirror_mode": {
    "name": "ipython",
    "version": 3
   },
   "file_extension": ".py",
   "mimetype": "text/x-python",
   "name": "python",
   "nbconvert_exporter": "python",
   "pygments_lexer": "ipython3",
   "version": "3.6.3"
  }
 },
 "nbformat": 4,
 "nbformat_minor": 2
}
